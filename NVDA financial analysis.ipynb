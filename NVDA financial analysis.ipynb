{
 "cells": [
  {
   "cell_type": "code",
   "execution_count": 3,
   "id": "4f446a1f",
   "metadata": {},
   "outputs": [],
   "source": [
    "# First, historical stock prices data is extracted from Yahoo! Finance in CSV file format. \n",
    "# This will be an analysis on which silicon chip manufacturer to buy, starting with NVIDIA Corp\n",
    "# The data will be downloaded from the historical data tab on google finance.\n",
    "# $TSM Taiwan Semiconductor Manufacturing Co. Ltd.\n",
    "# $INTC Intel Corp.\n",
    "# $AMD Advanced Micro Devices Ltd.\n",
    "# $QCOM Qualcomm Inc.\n",
    "# $AVGO Broadcom Inc.\n",
    "# $MU Micron Technology Inc.\n",
    "# $NVDA NVIDIA Corp.\n",
    "# $AMAT Applied MAterials, Inc.\n",
    "# $ASX ASE Technology Holding Co. Ltd.\n",
    "# Secondly,the data is parsed and indexed.\n",
    "\n",
    "# Tchniques: reading data from CSV files, understanding data types, set dexes, parse dates, use index with\n",
    "# loc, use indexing with iloc."
   ]
  },
  {
   "cell_type": "code",
   "execution_count": 4,
   "id": "96962407",
   "metadata": {},
   "outputs": [],
   "source": [
    "import pandas as pd"
   ]
  },
  {
   "cell_type": "code",
   "execution_count": 5,
   "id": "f332ac9c",
   "metadata": {},
   "outputs": [],
   "source": [
    "data = pd.read_csv(\"NVDA.csv\", index_col=0, parse_dates=True)\n",
    "# Formatting the data:\n",
    "# Use index_col to remove the automatic indexing and instead use the dates as the index.\n",
    "# Use parse_dates to convert the date column from an object data type to datetime."
   ]
  },
  {
   "cell_type": "code",
   "execution_count": 6,
   "id": "81f62c3c",
   "metadata": {},
   "outputs": [
    {
     "data": {
      "text/html": [
       "<div>\n",
       "<style scoped>\n",
       "    .dataframe tbody tr th:only-of-type {\n",
       "        vertical-align: middle;\n",
       "    }\n",
       "\n",
       "    .dataframe tbody tr th {\n",
       "        vertical-align: top;\n",
       "    }\n",
       "\n",
       "    .dataframe thead th {\n",
       "        text-align: right;\n",
       "    }\n",
       "</style>\n",
       "<table border=\"1\" class=\"dataframe\">\n",
       "  <thead>\n",
       "    <tr style=\"text-align: right;\">\n",
       "      <th></th>\n",
       "      <th>Open</th>\n",
       "      <th>High</th>\n",
       "      <th>Low</th>\n",
       "      <th>Close</th>\n",
       "      <th>Adj Close</th>\n",
       "      <th>Volume</th>\n",
       "    </tr>\n",
       "    <tr>\n",
       "      <th>Date</th>\n",
       "      <th></th>\n",
       "      <th></th>\n",
       "      <th></th>\n",
       "      <th></th>\n",
       "      <th></th>\n",
       "      <th></th>\n",
       "    </tr>\n",
       "  </thead>\n",
       "  <tbody>\n",
       "    <tr>\n",
       "      <th>2022-01-06</th>\n",
       "      <td>276.399994</td>\n",
       "      <td>284.380005</td>\n",
       "      <td>270.649994</td>\n",
       "      <td>281.779999</td>\n",
       "      <td>281.516724</td>\n",
       "      <td>45418600</td>\n",
       "    </tr>\n",
       "    <tr>\n",
       "      <th>2022-01-07</th>\n",
       "      <td>281.410004</td>\n",
       "      <td>284.220001</td>\n",
       "      <td>270.570007</td>\n",
       "      <td>272.470001</td>\n",
       "      <td>272.215424</td>\n",
       "      <td>40993900</td>\n",
       "    </tr>\n",
       "    <tr>\n",
       "      <th>2022-01-10</th>\n",
       "      <td>265.809998</td>\n",
       "      <td>274.690002</td>\n",
       "      <td>256.440002</td>\n",
       "      <td>274.000000</td>\n",
       "      <td>273.744049</td>\n",
       "      <td>59468100</td>\n",
       "    </tr>\n",
       "    <tr>\n",
       "      <th>2022-01-11</th>\n",
       "      <td>273.230011</td>\n",
       "      <td>280.649994</td>\n",
       "      <td>268.390015</td>\n",
       "      <td>278.170013</td>\n",
       "      <td>277.910156</td>\n",
       "      <td>40408900</td>\n",
       "    </tr>\n",
       "    <tr>\n",
       "      <th>2022-01-12</th>\n",
       "      <td>280.670013</td>\n",
       "      <td>285.950012</td>\n",
       "      <td>276.079987</td>\n",
       "      <td>279.989990</td>\n",
       "      <td>279.728394</td>\n",
       "      <td>38341300</td>\n",
       "    </tr>\n",
       "  </tbody>\n",
       "</table>\n",
       "</div>"
      ],
      "text/plain": [
       "                  Open        High         Low       Close   Adj Close  \\\n",
       "Date                                                                     \n",
       "2022-01-06  276.399994  284.380005  270.649994  281.779999  281.516724   \n",
       "2022-01-07  281.410004  284.220001  270.570007  272.470001  272.215424   \n",
       "2022-01-10  265.809998  274.690002  256.440002  274.000000  273.744049   \n",
       "2022-01-11  273.230011  280.649994  268.390015  278.170013  277.910156   \n",
       "2022-01-12  280.670013  285.950012  276.079987  279.989990  279.728394   \n",
       "\n",
       "              Volume  \n",
       "Date                  \n",
       "2022-01-06  45418600  \n",
       "2022-01-07  40993900  \n",
       "2022-01-10  59468100  \n",
       "2022-01-11  40408900  \n",
       "2022-01-12  38341300  "
      ]
     },
     "execution_count": 6,
     "metadata": {},
     "output_type": "execute_result"
    }
   ],
   "source": [
    "data.head()"
   ]
  },
  {
   "cell_type": "code",
   "execution_count": 7,
   "id": "3f926d62",
   "metadata": {},
   "outputs": [
    {
     "data": {
      "text/plain": [
       "Open         float64\n",
       "High         float64\n",
       "Low          float64\n",
       "Close        float64\n",
       "Adj Close    float64\n",
       "Volume         int64\n",
       "dtype: object"
      ]
     },
     "execution_count": 7,
     "metadata": {},
     "output_type": "execute_result"
    }
   ],
   "source": [
    "data.dtypes"
   ]
  },
  {
   "cell_type": "code",
   "execution_count": 8,
   "id": "7dd42d60",
   "metadata": {},
   "outputs": [
    {
     "data": {
      "text/plain": [
       "DatetimeIndex(['2022-01-06', '2022-01-07', '2022-01-10', '2022-01-11',\n",
       "               '2022-01-12', '2022-01-13', '2022-01-14', '2022-01-18',\n",
       "               '2022-01-19', '2022-01-20',\n",
       "               ...\n",
       "               '2022-12-21', '2022-12-22', '2022-12-23', '2022-12-27',\n",
       "               '2022-12-28', '2022-12-29', '2022-12-30', '2023-01-03',\n",
       "               '2023-01-04', '2023-01-05'],\n",
       "              dtype='datetime64[ns]', name='Date', length=251, freq=None)"
      ]
     },
     "execution_count": 8,
     "metadata": {},
     "output_type": "execute_result"
    }
   ],
   "source": [
    "data.index"
   ]
  },
  {
   "cell_type": "code",
   "execution_count": 9,
   "id": "2ca747e1",
   "metadata": {},
   "outputs": [
    {
     "data": {
      "text/plain": [
       "Open         2.764000e+02\n",
       "High         2.843800e+02\n",
       "Low          2.706500e+02\n",
       "Close        2.817800e+02\n",
       "Adj Close    2.815167e+02\n",
       "Volume       4.541860e+07\n",
       "Name: 2022-01-06 00:00:00, dtype: float64"
      ]
     },
     "execution_count": 9,
     "metadata": {},
     "output_type": "execute_result"
    }
   ],
   "source": [
    "data.loc['2022-01-06']\n",
    "# Accessing specific data record with a data."
   ]
  },
  {
   "cell_type": "code",
   "execution_count": 10,
   "id": "c3a71d99",
   "metadata": {},
   "outputs": [
    {
     "data": {
      "text/html": [
       "<div>\n",
       "<style scoped>\n",
       "    .dataframe tbody tr th:only-of-type {\n",
       "        vertical-align: middle;\n",
       "    }\n",
       "\n",
       "    .dataframe tbody tr th {\n",
       "        vertical-align: top;\n",
       "    }\n",
       "\n",
       "    .dataframe thead th {\n",
       "        text-align: right;\n",
       "    }\n",
       "</style>\n",
       "<table border=\"1\" class=\"dataframe\">\n",
       "  <thead>\n",
       "    <tr style=\"text-align: right;\">\n",
       "      <th></th>\n",
       "      <th>Open</th>\n",
       "      <th>High</th>\n",
       "      <th>Low</th>\n",
       "      <th>Close</th>\n",
       "      <th>Adj Close</th>\n",
       "      <th>Volume</th>\n",
       "    </tr>\n",
       "    <tr>\n",
       "      <th>Date</th>\n",
       "      <th></th>\n",
       "      <th></th>\n",
       "      <th></th>\n",
       "      <th></th>\n",
       "      <th></th>\n",
       "      <th></th>\n",
       "    </tr>\n",
       "  </thead>\n",
       "  <tbody>\n",
       "    <tr>\n",
       "      <th>2022-01-06</th>\n",
       "      <td>276.399994</td>\n",
       "      <td>284.380005</td>\n",
       "      <td>270.649994</td>\n",
       "      <td>281.779999</td>\n",
       "      <td>281.516724</td>\n",
       "      <td>45418600</td>\n",
       "    </tr>\n",
       "    <tr>\n",
       "      <th>2022-01-07</th>\n",
       "      <td>281.410004</td>\n",
       "      <td>284.220001</td>\n",
       "      <td>270.570007</td>\n",
       "      <td>272.470001</td>\n",
       "      <td>272.215424</td>\n",
       "      <td>40993900</td>\n",
       "    </tr>\n",
       "    <tr>\n",
       "      <th>2022-01-10</th>\n",
       "      <td>265.809998</td>\n",
       "      <td>274.690002</td>\n",
       "      <td>256.440002</td>\n",
       "      <td>274.000000</td>\n",
       "      <td>273.744049</td>\n",
       "      <td>59468100</td>\n",
       "    </tr>\n",
       "    <tr>\n",
       "      <th>2022-01-11</th>\n",
       "      <td>273.230011</td>\n",
       "      <td>280.649994</td>\n",
       "      <td>268.390015</td>\n",
       "      <td>278.170013</td>\n",
       "      <td>277.910156</td>\n",
       "      <td>40408900</td>\n",
       "    </tr>\n",
       "    <tr>\n",
       "      <th>2022-01-12</th>\n",
       "      <td>280.670013</td>\n",
       "      <td>285.950012</td>\n",
       "      <td>276.079987</td>\n",
       "      <td>279.989990</td>\n",
       "      <td>279.728394</td>\n",
       "      <td>38341300</td>\n",
       "    </tr>\n",
       "    <tr>\n",
       "      <th>...</th>\n",
       "      <td>...</td>\n",
       "      <td>...</td>\n",
       "      <td>...</td>\n",
       "      <td>...</td>\n",
       "      <td>...</td>\n",
       "      <td>...</td>\n",
       "    </tr>\n",
       "    <tr>\n",
       "      <th>2022-12-29</th>\n",
       "      <td>144.020004</td>\n",
       "      <td>146.830002</td>\n",
       "      <td>142.270004</td>\n",
       "      <td>146.029999</td>\n",
       "      <td>146.029999</td>\n",
       "      <td>35492300</td>\n",
       "    </tr>\n",
       "    <tr>\n",
       "      <th>2022-12-30</th>\n",
       "      <td>143.339996</td>\n",
       "      <td>146.289993</td>\n",
       "      <td>142.330002</td>\n",
       "      <td>146.139999</td>\n",
       "      <td>146.139999</td>\n",
       "      <td>31027300</td>\n",
       "    </tr>\n",
       "    <tr>\n",
       "      <th>2023-01-03</th>\n",
       "      <td>148.509995</td>\n",
       "      <td>149.960007</td>\n",
       "      <td>140.960007</td>\n",
       "      <td>143.149994</td>\n",
       "      <td>143.149994</td>\n",
       "      <td>40127700</td>\n",
       "    </tr>\n",
       "    <tr>\n",
       "      <th>2023-01-04</th>\n",
       "      <td>145.669998</td>\n",
       "      <td>148.529999</td>\n",
       "      <td>142.410004</td>\n",
       "      <td>147.490005</td>\n",
       "      <td>147.490005</td>\n",
       "      <td>43132400</td>\n",
       "    </tr>\n",
       "    <tr>\n",
       "      <th>2023-01-05</th>\n",
       "      <td>144.910004</td>\n",
       "      <td>145.639999</td>\n",
       "      <td>141.479996</td>\n",
       "      <td>142.649994</td>\n",
       "      <td>142.649994</td>\n",
       "      <td>38871200</td>\n",
       "    </tr>\n",
       "  </tbody>\n",
       "</table>\n",
       "<p>251 rows × 6 columns</p>\n",
       "</div>"
      ],
      "text/plain": [
       "                  Open        High         Low       Close   Adj Close  \\\n",
       "Date                                                                     \n",
       "2022-01-06  276.399994  284.380005  270.649994  281.779999  281.516724   \n",
       "2022-01-07  281.410004  284.220001  270.570007  272.470001  272.215424   \n",
       "2022-01-10  265.809998  274.690002  256.440002  274.000000  273.744049   \n",
       "2022-01-11  273.230011  280.649994  268.390015  278.170013  277.910156   \n",
       "2022-01-12  280.670013  285.950012  276.079987  279.989990  279.728394   \n",
       "...                ...         ...         ...         ...         ...   \n",
       "2022-12-29  144.020004  146.830002  142.270004  146.029999  146.029999   \n",
       "2022-12-30  143.339996  146.289993  142.330002  146.139999  146.139999   \n",
       "2023-01-03  148.509995  149.960007  140.960007  143.149994  143.149994   \n",
       "2023-01-04  145.669998  148.529999  142.410004  147.490005  147.490005   \n",
       "2023-01-05  144.910004  145.639999  141.479996  142.649994  142.649994   \n",
       "\n",
       "              Volume  \n",
       "Date                  \n",
       "2022-01-06  45418600  \n",
       "2022-01-07  40993900  \n",
       "2022-01-10  59468100  \n",
       "2022-01-11  40408900  \n",
       "2022-01-12  38341300  \n",
       "...              ...  \n",
       "2022-12-29  35492300  \n",
       "2022-12-30  31027300  \n",
       "2023-01-03  40127700  \n",
       "2023-01-04  43132400  \n",
       "2023-01-05  38871200  \n",
       "\n",
       "[251 rows x 6 columns]"
      ]
     },
     "execution_count": 10,
     "metadata": {},
     "output_type": "execute_result"
    }
   ],
   "source": [
    "data.loc['2022-01-06':]"
   ]
  },
  {
   "cell_type": "code",
   "execution_count": 11,
   "id": "712e00d9",
   "metadata": {},
   "outputs": [
    {
     "data": {
      "text/html": [
       "<div>\n",
       "<style scoped>\n",
       "    .dataframe tbody tr th:only-of-type {\n",
       "        vertical-align: middle;\n",
       "    }\n",
       "\n",
       "    .dataframe tbody tr th {\n",
       "        vertical-align: top;\n",
       "    }\n",
       "\n",
       "    .dataframe thead th {\n",
       "        text-align: right;\n",
       "    }\n",
       "</style>\n",
       "<table border=\"1\" class=\"dataframe\">\n",
       "  <thead>\n",
       "    <tr style=\"text-align: right;\">\n",
       "      <th></th>\n",
       "      <th>Open</th>\n",
       "      <th>High</th>\n",
       "      <th>Low</th>\n",
       "      <th>Close</th>\n",
       "      <th>Adj Close</th>\n",
       "      <th>Volume</th>\n",
       "    </tr>\n",
       "    <tr>\n",
       "      <th>Date</th>\n",
       "      <th></th>\n",
       "      <th></th>\n",
       "      <th></th>\n",
       "      <th></th>\n",
       "      <th></th>\n",
       "      <th></th>\n",
       "    </tr>\n",
       "  </thead>\n",
       "  <tbody>\n",
       "    <tr>\n",
       "      <th>2022-01-06</th>\n",
       "      <td>276.399994</td>\n",
       "      <td>284.380005</td>\n",
       "      <td>270.649994</td>\n",
       "      <td>281.779999</td>\n",
       "      <td>281.516724</td>\n",
       "      <td>45418600</td>\n",
       "    </tr>\n",
       "    <tr>\n",
       "      <th>2022-01-07</th>\n",
       "      <td>281.410004</td>\n",
       "      <td>284.220001</td>\n",
       "      <td>270.570007</td>\n",
       "      <td>272.470001</td>\n",
       "      <td>272.215424</td>\n",
       "      <td>40993900</td>\n",
       "    </tr>\n",
       "    <tr>\n",
       "      <th>2022-01-10</th>\n",
       "      <td>265.809998</td>\n",
       "      <td>274.690002</td>\n",
       "      <td>256.440002</td>\n",
       "      <td>274.000000</td>\n",
       "      <td>273.744049</td>\n",
       "      <td>59468100</td>\n",
       "    </tr>\n",
       "    <tr>\n",
       "      <th>2022-01-11</th>\n",
       "      <td>273.230011</td>\n",
       "      <td>280.649994</td>\n",
       "      <td>268.390015</td>\n",
       "      <td>278.170013</td>\n",
       "      <td>277.910156</td>\n",
       "      <td>40408900</td>\n",
       "    </tr>\n",
       "    <tr>\n",
       "      <th>2022-01-12</th>\n",
       "      <td>280.670013</td>\n",
       "      <td>285.950012</td>\n",
       "      <td>276.079987</td>\n",
       "      <td>279.989990</td>\n",
       "      <td>279.728394</td>\n",
       "      <td>38341300</td>\n",
       "    </tr>\n",
       "    <tr>\n",
       "      <th>...</th>\n",
       "      <td>...</td>\n",
       "      <td>...</td>\n",
       "      <td>...</td>\n",
       "      <td>...</td>\n",
       "      <td>...</td>\n",
       "      <td>...</td>\n",
       "    </tr>\n",
       "    <tr>\n",
       "      <th>2022-03-31</th>\n",
       "      <td>277.820007</td>\n",
       "      <td>282.480011</td>\n",
       "      <td>272.700012</td>\n",
       "      <td>272.859985</td>\n",
       "      <td>272.651520</td>\n",
       "      <td>52344000</td>\n",
       "    </tr>\n",
       "    <tr>\n",
       "      <th>2022-04-01</th>\n",
       "      <td>273.750000</td>\n",
       "      <td>274.959991</td>\n",
       "      <td>262.670013</td>\n",
       "      <td>267.119995</td>\n",
       "      <td>266.915894</td>\n",
       "      <td>51723500</td>\n",
       "    </tr>\n",
       "    <tr>\n",
       "      <th>2022-04-04</th>\n",
       "      <td>267.279999</td>\n",
       "      <td>275.579987</td>\n",
       "      <td>266.130005</td>\n",
       "      <td>273.600006</td>\n",
       "      <td>273.390961</td>\n",
       "      <td>39712000</td>\n",
       "    </tr>\n",
       "    <tr>\n",
       "      <th>2022-04-05</th>\n",
       "      <td>272.540009</td>\n",
       "      <td>273.190002</td>\n",
       "      <td>258.200012</td>\n",
       "      <td>259.309998</td>\n",
       "      <td>259.111877</td>\n",
       "      <td>43661500</td>\n",
       "    </tr>\n",
       "    <tr>\n",
       "      <th>2022-04-06</th>\n",
       "      <td>249.339996</td>\n",
       "      <td>253.000000</td>\n",
       "      <td>240.029999</td>\n",
       "      <td>244.070007</td>\n",
       "      <td>243.883530</td>\n",
       "      <td>70383300</td>\n",
       "    </tr>\n",
       "  </tbody>\n",
       "</table>\n",
       "<p>63 rows × 6 columns</p>\n",
       "</div>"
      ],
      "text/plain": [
       "                  Open        High         Low       Close   Adj Close  \\\n",
       "Date                                                                     \n",
       "2022-01-06  276.399994  284.380005  270.649994  281.779999  281.516724   \n",
       "2022-01-07  281.410004  284.220001  270.570007  272.470001  272.215424   \n",
       "2022-01-10  265.809998  274.690002  256.440002  274.000000  273.744049   \n",
       "2022-01-11  273.230011  280.649994  268.390015  278.170013  277.910156   \n",
       "2022-01-12  280.670013  285.950012  276.079987  279.989990  279.728394   \n",
       "...                ...         ...         ...         ...         ...   \n",
       "2022-03-31  277.820007  282.480011  272.700012  272.859985  272.651520   \n",
       "2022-04-01  273.750000  274.959991  262.670013  267.119995  266.915894   \n",
       "2022-04-04  267.279999  275.579987  266.130005  273.600006  273.390961   \n",
       "2022-04-05  272.540009  273.190002  258.200012  259.309998  259.111877   \n",
       "2022-04-06  249.339996  253.000000  240.029999  244.070007  243.883530   \n",
       "\n",
       "              Volume  \n",
       "Date                  \n",
       "2022-01-06  45418600  \n",
       "2022-01-07  40993900  \n",
       "2022-01-10  59468100  \n",
       "2022-01-11  40408900  \n",
       "2022-01-12  38341300  \n",
       "...              ...  \n",
       "2022-03-31  52344000  \n",
       "2022-04-01  51723500  \n",
       "2022-04-04  39712000  \n",
       "2022-04-05  43661500  \n",
       "2022-04-06  70383300  \n",
       "\n",
       "[63 rows x 6 columns]"
      ]
     },
     "execution_count": 11,
     "metadata": {},
     "output_type": "execute_result"
    }
   ],
   "source": [
    "# A range of data. for example a financial quarter.\n",
    "data.loc['2022-01-06':'2022-04-06']"
   ]
  },
  {
   "cell_type": "code",
   "execution_count": 12,
   "id": "c8146493",
   "metadata": {},
   "outputs": [
    {
     "data": {
      "text/plain": [
       "Open         2.764000e+02\n",
       "High         2.843800e+02\n",
       "Low          2.706500e+02\n",
       "Close        2.817800e+02\n",
       "Adj Close    2.815167e+02\n",
       "Volume       4.541860e+07\n",
       "Name: 2022-01-06 00:00:00, dtype: float64"
      ]
     },
     "execution_count": 12,
     "metadata": {},
     "output_type": "execute_result"
    }
   ],
   "source": [
    "# The first day and the last day\n",
    "data.iloc[0]"
   ]
  },
  {
   "cell_type": "code",
   "execution_count": 13,
   "id": "d760e54e",
   "metadata": {},
   "outputs": [
    {
     "data": {
      "text/plain": [
       "Open         1.449100e+02\n",
       "High         1.456400e+02\n",
       "Low          1.414800e+02\n",
       "Close        1.426500e+02\n",
       "Adj Close    1.426500e+02\n",
       "Volume       3.887120e+07\n",
       "Name: 2023-01-05 00:00:00, dtype: float64"
      ]
     },
     "execution_count": 13,
     "metadata": {},
     "output_type": "execute_result"
    }
   ],
   "source": [
    "data.iloc[-1]\n",
    "# We've indexed this data with location and ilocation"
   ]
  },
  {
   "cell_type": "code",
   "execution_count": 14,
   "id": "b24effaf",
   "metadata": {},
   "outputs": [
    {
     "data": {
      "text/html": [
       "<div>\n",
       "<style scoped>\n",
       "    .dataframe tbody tr th:only-of-type {\n",
       "        vertical-align: middle;\n",
       "    }\n",
       "\n",
       "    .dataframe tbody tr th {\n",
       "        vertical-align: top;\n",
       "    }\n",
       "\n",
       "    .dataframe thead th {\n",
       "        text-align: right;\n",
       "    }\n",
       "</style>\n",
       "<table border=\"1\" class=\"dataframe\">\n",
       "  <thead>\n",
       "    <tr style=\"text-align: right;\">\n",
       "      <th></th>\n",
       "      <th>Open</th>\n",
       "      <th>High</th>\n",
       "      <th>Low</th>\n",
       "      <th>Close</th>\n",
       "      <th>Adj Close</th>\n",
       "      <th>Volume</th>\n",
       "    </tr>\n",
       "    <tr>\n",
       "      <th>Date</th>\n",
       "      <th></th>\n",
       "      <th></th>\n",
       "      <th></th>\n",
       "      <th></th>\n",
       "      <th></th>\n",
       "      <th></th>\n",
       "    </tr>\n",
       "  </thead>\n",
       "  <tbody>\n",
       "    <tr>\n",
       "      <th>2022-12-29</th>\n",
       "      <td>144.020004</td>\n",
       "      <td>146.830002</td>\n",
       "      <td>142.270004</td>\n",
       "      <td>146.029999</td>\n",
       "      <td>146.029999</td>\n",
       "      <td>35492300</td>\n",
       "    </tr>\n",
       "    <tr>\n",
       "      <th>2022-12-30</th>\n",
       "      <td>143.339996</td>\n",
       "      <td>146.289993</td>\n",
       "      <td>142.330002</td>\n",
       "      <td>146.139999</td>\n",
       "      <td>146.139999</td>\n",
       "      <td>31027300</td>\n",
       "    </tr>\n",
       "    <tr>\n",
       "      <th>2023-01-03</th>\n",
       "      <td>148.509995</td>\n",
       "      <td>149.960007</td>\n",
       "      <td>140.960007</td>\n",
       "      <td>143.149994</td>\n",
       "      <td>143.149994</td>\n",
       "      <td>40127700</td>\n",
       "    </tr>\n",
       "    <tr>\n",
       "      <th>2023-01-04</th>\n",
       "      <td>145.669998</td>\n",
       "      <td>148.529999</td>\n",
       "      <td>142.410004</td>\n",
       "      <td>147.490005</td>\n",
       "      <td>147.490005</td>\n",
       "      <td>43132400</td>\n",
       "    </tr>\n",
       "    <tr>\n",
       "      <th>2023-01-05</th>\n",
       "      <td>144.910004</td>\n",
       "      <td>145.639999</td>\n",
       "      <td>141.479996</td>\n",
       "      <td>142.649994</td>\n",
       "      <td>142.649994</td>\n",
       "      <td>38871200</td>\n",
       "    </tr>\n",
       "  </tbody>\n",
       "</table>\n",
       "</div>"
      ],
      "text/plain": [
       "                  Open        High         Low       Close   Adj Close  \\\n",
       "Date                                                                     \n",
       "2022-12-29  144.020004  146.830002  142.270004  146.029999  146.029999   \n",
       "2022-12-30  143.339996  146.289993  142.330002  146.139999  146.139999   \n",
       "2023-01-03  148.509995  149.960007  140.960007  143.149994  143.149994   \n",
       "2023-01-04  145.669998  148.529999  142.410004  147.490005  147.490005   \n",
       "2023-01-05  144.910004  145.639999  141.479996  142.649994  142.649994   \n",
       "\n",
       "              Volume  \n",
       "Date                  \n",
       "2022-12-29  35492300  \n",
       "2022-12-30  31027300  \n",
       "2023-01-03  40127700  \n",
       "2023-01-04  43132400  \n",
       "2023-01-05  38871200  "
      ]
     },
     "execution_count": 14,
     "metadata": {},
     "output_type": "execute_result"
    }
   ],
   "source": [
    "data.tail()"
   ]
  },
  {
   "cell_type": "code",
   "execution_count": 15,
   "id": "d65de461",
   "metadata": {},
   "outputs": [
    {
     "data": {
      "text/plain": [
       "pandas.core.frame.DataFrame"
      ]
     },
     "execution_count": 15,
     "metadata": {},
     "output_type": "execute_result"
    }
   ],
   "source": [
    "# How to look at columns, which are series, and make calculations on them. Data frames contain series.\n",
    "# In the series, we'll use type to get the data type\n",
    "# Daily change, daily percentage change and normalise the data \n",
    "type(data)"
   ]
  },
  {
   "cell_type": "code",
   "execution_count": 16,
   "id": "341a2f61",
   "metadata": {},
   "outputs": [
    {
     "data": {
      "text/plain": [
       "Date\n",
       "2022-01-06    281.779999\n",
       "2022-01-07    272.470001\n",
       "2022-01-10    274.000000\n",
       "2022-01-11    278.170013\n",
       "2022-01-12    279.989990\n",
       "                 ...    \n",
       "2022-12-29    146.029999\n",
       "2022-12-30    146.139999\n",
       "2023-01-03    143.149994\n",
       "2023-01-04    147.490005\n",
       "2023-01-05    142.649994\n",
       "Name: Close, Length: 251, dtype: float64"
      ]
     },
     "execution_count": 16,
     "metadata": {},
     "output_type": "execute_result"
    }
   ],
   "source": [
    "# Acessing the closing column\n",
    "data['Close']"
   ]
  },
  {
   "cell_type": "code",
   "execution_count": 17,
   "id": "dafd9651",
   "metadata": {},
   "outputs": [
    {
     "data": {
      "text/plain": [
       "pandas.core.series.Series"
      ]
     },
     "execution_count": 17,
     "metadata": {},
     "output_type": "execute_result"
    }
   ],
   "source": [
    "type(data['Close'])\n",
    "# This is a series instead of a data frame."
   ]
  },
  {
   "cell_type": "code",
   "execution_count": 18,
   "id": "56ed281d",
   "metadata": {},
   "outputs": [
    {
     "data": {
      "text/plain": [
       "Open         float64\n",
       "High         float64\n",
       "Low          float64\n",
       "Close        float64\n",
       "Adj Close    float64\n",
       "Volume         int64\n",
       "dtype: object"
      ]
     },
     "execution_count": 18,
     "metadata": {},
     "output_type": "execute_result"
    }
   ],
   "source": [
    "data.dtypes"
   ]
  },
  {
   "cell_type": "code",
   "execution_count": 19,
   "id": "6083c14c",
   "metadata": {},
   "outputs": [],
   "source": [
    "# Unlike excel, the series has a restriction on the type of data that it contain, because\n",
    "# if there are restrictions on the data, calculations can executed more quickly.\n",
    "\n",
    "# Calculating the difference between the opening price and the close price:"
   ]
  },
  {
   "cell_type": "code",
   "execution_count": 20,
   "id": "347e7339",
   "metadata": {},
   "outputs": [
    {
     "data": {
      "text/plain": [
       "Date\n",
       "2022-01-06   -5.380005\n",
       "2022-01-07    8.940003\n",
       "2022-01-10   -8.190002\n",
       "2022-01-11   -4.940002\n",
       "2022-01-12    0.680023\n",
       "                ...   \n",
       "2022-12-29   -2.009995\n",
       "2022-12-30   -2.800003\n",
       "2023-01-03    5.360001\n",
       "2023-01-04   -1.820007\n",
       "2023-01-05    2.260010\n",
       "Length: 251, dtype: float64"
      ]
     },
     "execution_count": 20,
     "metadata": {},
     "output_type": "execute_result"
    }
   ],
   "source": [
    "data['Open'] - data['Close']"
   ]
  },
  {
   "cell_type": "code",
   "execution_count": 21,
   "id": "f15d68ce",
   "metadata": {},
   "outputs": [
    {
     "data": {
      "text/html": [
       "<div>\n",
       "<style scoped>\n",
       "    .dataframe tbody tr th:only-of-type {\n",
       "        vertical-align: middle;\n",
       "    }\n",
       "\n",
       "    .dataframe tbody tr th {\n",
       "        vertical-align: top;\n",
       "    }\n",
       "\n",
       "    .dataframe thead th {\n",
       "        text-align: right;\n",
       "    }\n",
       "</style>\n",
       "<table border=\"1\" class=\"dataframe\">\n",
       "  <thead>\n",
       "    <tr style=\"text-align: right;\">\n",
       "      <th></th>\n",
       "      <th>Open</th>\n",
       "      <th>High</th>\n",
       "      <th>Low</th>\n",
       "      <th>Close</th>\n",
       "      <th>Adj Close</th>\n",
       "      <th>Volume</th>\n",
       "    </tr>\n",
       "    <tr>\n",
       "      <th>Date</th>\n",
       "      <th></th>\n",
       "      <th></th>\n",
       "      <th></th>\n",
       "      <th></th>\n",
       "      <th></th>\n",
       "      <th></th>\n",
       "    </tr>\n",
       "  </thead>\n",
       "  <tbody>\n",
       "    <tr>\n",
       "      <th>2022-01-06</th>\n",
       "      <td>276.399994</td>\n",
       "      <td>284.380005</td>\n",
       "      <td>270.649994</td>\n",
       "      <td>281.779999</td>\n",
       "      <td>281.516724</td>\n",
       "      <td>45418600</td>\n",
       "    </tr>\n",
       "    <tr>\n",
       "      <th>2022-01-07</th>\n",
       "      <td>281.410004</td>\n",
       "      <td>284.220001</td>\n",
       "      <td>270.570007</td>\n",
       "      <td>272.470001</td>\n",
       "      <td>272.215424</td>\n",
       "      <td>40993900</td>\n",
       "    </tr>\n",
       "    <tr>\n",
       "      <th>2022-01-10</th>\n",
       "      <td>265.809998</td>\n",
       "      <td>274.690002</td>\n",
       "      <td>256.440002</td>\n",
       "      <td>274.000000</td>\n",
       "      <td>273.744049</td>\n",
       "      <td>59468100</td>\n",
       "    </tr>\n",
       "    <tr>\n",
       "      <th>2022-01-11</th>\n",
       "      <td>273.230011</td>\n",
       "      <td>280.649994</td>\n",
       "      <td>268.390015</td>\n",
       "      <td>278.170013</td>\n",
       "      <td>277.910156</td>\n",
       "      <td>40408900</td>\n",
       "    </tr>\n",
       "    <tr>\n",
       "      <th>2022-01-12</th>\n",
       "      <td>280.670013</td>\n",
       "      <td>285.950012</td>\n",
       "      <td>276.079987</td>\n",
       "      <td>279.989990</td>\n",
       "      <td>279.728394</td>\n",
       "      <td>38341300</td>\n",
       "    </tr>\n",
       "  </tbody>\n",
       "</table>\n",
       "</div>"
      ],
      "text/plain": [
       "                  Open        High         Low       Close   Adj Close  \\\n",
       "Date                                                                     \n",
       "2022-01-06  276.399994  284.380005  270.649994  281.779999  281.516724   \n",
       "2022-01-07  281.410004  284.220001  270.570007  272.470001  272.215424   \n",
       "2022-01-10  265.809998  274.690002  256.440002  274.000000  273.744049   \n",
       "2022-01-11  273.230011  280.649994  268.390015  278.170013  277.910156   \n",
       "2022-01-12  280.670013  285.950012  276.079987  279.989990  279.728394   \n",
       "\n",
       "              Volume  \n",
       "Date                  \n",
       "2022-01-06  45418600  \n",
       "2022-01-07  40993900  \n",
       "2022-01-10  59468100  \n",
       "2022-01-11  40408900  \n",
       "2022-01-12  38341300  "
      ]
     },
     "execution_count": 21,
     "metadata": {},
     "output_type": "execute_result"
    }
   ],
   "source": [
    "data.head()\n",
    "# You can see that Open - Close is equal to what is shown"
   ]
  },
  {
   "cell_type": "code",
   "execution_count": 24,
   "id": "3e324755",
   "metadata": {},
   "outputs": [
    {
     "data": {
      "text/plain": [
       "Date\n",
       "2022-01-06   -5.380005\n",
       "2022-01-07    8.940003\n",
       "2022-01-10   -8.190002\n",
       "2022-01-11   -4.940002\n",
       "2022-01-12    0.680023\n",
       "                ...   \n",
       "2022-12-29   -2.009995\n",
       "2022-12-30   -2.800003\n",
       "2023-01-03    5.360001\n",
       "2023-01-04   -1.820007\n",
       "2023-01-05    2.260010\n",
       "Length: 251, dtype: float64"
      ]
     },
     "execution_count": 24,
     "metadata": {},
     "output_type": "execute_result"
    }
   ],
   "source": [
    "daily_change = data['Open'] - data['Close']\n",
    "daily_change"
   ]
  },
  {
   "cell_type": "code",
   "execution_count": 27,
   "id": "f354be47",
   "metadata": {},
   "outputs": [
    {
     "data": {
      "text/plain": [
       "pandas.core.series.Series"
      ]
     },
     "execution_count": 27,
     "metadata": {},
     "output_type": "execute_result"
    }
   ],
   "source": [
    "type(daily_change)"
   ]
  },
  {
   "cell_type": "code",
   "execution_count": 30,
   "id": "71bbdfda",
   "metadata": {},
   "outputs": [
    {
     "data": {
      "text/plain": [
       "Date\n",
       "2022-01-06    1.946456\n",
       "2022-01-07   -3.176860\n",
       "2022-01-10    3.081149\n",
       "2022-01-11    1.808001\n",
       "2022-01-12   -0.242286\n",
       "                ...   \n",
       "2022-12-29    1.395636\n",
       "2022-12-30    1.953400\n",
       "2023-01-03   -3.609185\n",
       "2023-01-04    1.249404\n",
       "2023-01-05   -1.559596\n",
       "Length: 251, dtype: float64"
      ]
     },
     "execution_count": 30,
     "metadata": {},
     "output_type": "execute_result"
    }
   ],
   "source": [
    "#Calculating the daily percentage change\n",
    "daily_percentage_change = (data['Close'] - data['Open'])/data['Open']*100\n",
    "daily_percentage_change"
   ]
  },
  {
   "cell_type": "code",
   "execution_count": 35,
   "id": "514e128d",
   "metadata": {},
   "outputs": [
    {
     "data": {
      "text/plain": [
       "281.779999"
      ]
     },
     "execution_count": 35,
     "metadata": {},
     "output_type": "execute_result"
    }
   ],
   "source": [
    "# Normalising the data\n",
    "# First record\n",
    "data['Close'].iloc[0]"
   ]
  },
  {
   "cell_type": "code",
   "execution_count": 36,
   "id": "078f6605",
   "metadata": {},
   "outputs": [
    {
     "data": {
      "text/plain": [
       "142.649994"
      ]
     },
     "execution_count": 36,
     "metadata": {},
     "output_type": "execute_result"
    }
   ],
   "source": [
    "# Last record\n",
    "data['Close'].iloc[-1]"
   ]
  },
  {
   "cell_type": "code",
   "execution_count": 37,
   "id": "2d66c08b",
   "metadata": {},
   "outputs": [
    {
     "data": {
      "text/plain": [
       "Date\n",
       "2022-01-06    1.000000\n",
       "2022-01-07    0.966960\n",
       "2022-01-10    0.972390\n",
       "2022-01-11    0.987189\n",
       "2022-01-12    0.993647\n",
       "                ...   \n",
       "2022-12-29    0.518241\n",
       "2022-12-30    0.518632\n",
       "2023-01-03    0.508020\n",
       "2023-01-04    0.523423\n",
       "2023-01-05    0.506246\n",
       "Name: Close, Length: 251, dtype: float64"
      ]
     },
     "execution_count": 37,
     "metadata": {},
     "output_type": "execute_result"
    }
   ],
   "source": [
    "norm = data['Close']/data['Close'].iloc[0]\n",
    "norm"
   ]
  },
  {
   "cell_type": "code",
   "execution_count": 39,
   "id": "62fb858d",
   "metadata": {},
   "outputs": [
    {
     "data": {
      "text/plain": [
       "142.64999399999996"
      ]
     },
     "execution_count": 39,
     "metadata": {},
     "output_type": "execute_result"
    }
   ],
   "source": [
    "data['Close'].iloc[0]*norm.iloc[-1]"
   ]
  },
  {
   "cell_type": "code",
   "execution_count": 40,
   "id": "aaa27889",
   "metadata": {},
   "outputs": [
    {
     "data": {
      "text/plain": [
       "142.649994"
      ]
     },
     "execution_count": 40,
     "metadata": {},
     "output_type": "execute_result"
    }
   ],
   "source": [
    "data['Close'].iloc[-1]"
   ]
  },
  {
   "cell_type": "code",
   "execution_count": null,
   "id": "8ba599f8",
   "metadata": {},
   "outputs": [],
   "source": [
    "# One year of investvestment in NVDA stock from 2022 to 2023 has resulted in an increase of 50%\n"
   ]
  }
 ],
 "metadata": {
  "kernelspec": {
   "display_name": "Python 3 (ipykernel)",
   "language": "python",
   "name": "python3"
  },
  "language_info": {
   "codemirror_mode": {
    "name": "ipython",
    "version": 3
   },
   "file_extension": ".py",
   "mimetype": "text/x-python",
   "name": "python",
   "nbconvert_exporter": "python",
   "pygments_lexer": "ipython3",
   "version": "3.9.13"
  }
 },
 "nbformat": 4,
 "nbformat_minor": 5
}
