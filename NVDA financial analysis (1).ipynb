{
 "cells": [
  {
   "cell_type": "code",
   "execution_count": 2,
   "id": "4f446a1f",
   "metadata": {},
   "outputs": [],
   "source": [
    "# First, historical stock prices data is extracted from Yahoo! Finance in CSV file format. \n",
    "# This will be an analysis on which silicon chip manufacturer to buy, starting with NVIDIA Corp\n",
    "# The data will be downloaded from the historical data tab on google finance.\n",
    "# $TSM Taiwan Semiconductor Manufacturing Co. Ltd.\n",
    "# $INTC Intel Corp.\n",
    "# $AMD Advanced Micro Devices Ltd.\n",
    "# $QCOM Qualcomm Inc.\n",
    "# $AVGO Broadcom Inc.\n",
    "# $MU Micron Technology Inc.\n",
    "# $NVDA NVIDIA Corp.\n",
    "# $AMAT Applied MAterials, Inc.\n",
    "# $ASX ASE Technology Holding Co. Ltd.\n",
    "# Secondly,the data is parsed and indexed.\n",
    "\n",
    "# Techniques: reading data from CSV files, understanding data types, set dexes, parse dates, use index with\n",
    "# loc, use indexing with iloc."
   ]
  },
  {
   "cell_type": "code",
   "execution_count": 3,
   "id": "96962407",
   "metadata": {},
   "outputs": [],
   "source": [
    "import pandas as pd"
   ]
  },
  {
   "cell_type": "code",
   "execution_count": 4,
   "id": "f332ac9c",
   "metadata": {},
   "outputs": [],
   "source": [
    "data = pd.read_csv(\"NVDA.csv\", index_col=0, parse_dates=True)\n",
    "# Formatting the data:\n",
    "# Use index_col to remove the automatic indexing and instead use the dates as the index.\n",
    "# Use parse_dates to convert the date column from an object data type to datetime."
   ]
  },
  {
   "cell_type": "code",
   "execution_count": 5,
   "id": "81f62c3c",
   "metadata": {},
   "outputs": [
    {
     "data": {
      "text/html": [
       "<div>\n",
       "<style scoped>\n",
       "    .dataframe tbody tr th:only-of-type {\n",
       "        vertical-align: middle;\n",
       "    }\n",
       "\n",
       "    .dataframe tbody tr th {\n",
       "        vertical-align: top;\n",
       "    }\n",
       "\n",
       "    .dataframe thead th {\n",
       "        text-align: right;\n",
       "    }\n",
       "</style>\n",
       "<table border=\"1\" class=\"dataframe\">\n",
       "  <thead>\n",
       "    <tr style=\"text-align: right;\">\n",
       "      <th></th>\n",
       "      <th>Open</th>\n",
       "      <th>High</th>\n",
       "      <th>Low</th>\n",
       "      <th>Close</th>\n",
       "      <th>Adj Close</th>\n",
       "      <th>Volume</th>\n",
       "    </tr>\n",
       "    <tr>\n",
       "      <th>Date</th>\n",
       "      <th></th>\n",
       "      <th></th>\n",
       "      <th></th>\n",
       "      <th></th>\n",
       "      <th></th>\n",
       "      <th></th>\n",
       "    </tr>\n",
       "  </thead>\n",
       "  <tbody>\n",
       "    <tr>\n",
       "      <th>2022-01-06</th>\n",
       "      <td>276.399994</td>\n",
       "      <td>284.380005</td>\n",
       "      <td>270.649994</td>\n",
       "      <td>281.779999</td>\n",
       "      <td>281.516724</td>\n",
       "      <td>45418600</td>\n",
       "    </tr>\n",
       "    <tr>\n",
       "      <th>2022-01-07</th>\n",
       "      <td>281.410004</td>\n",
       "      <td>284.220001</td>\n",
       "      <td>270.570007</td>\n",
       "      <td>272.470001</td>\n",
       "      <td>272.215424</td>\n",
       "      <td>40993900</td>\n",
       "    </tr>\n",
       "    <tr>\n",
       "      <th>2022-01-10</th>\n",
       "      <td>265.809998</td>\n",
       "      <td>274.690002</td>\n",
       "      <td>256.440002</td>\n",
       "      <td>274.000000</td>\n",
       "      <td>273.744049</td>\n",
       "      <td>59468100</td>\n",
       "    </tr>\n",
       "    <tr>\n",
       "      <th>2022-01-11</th>\n",
       "      <td>273.230011</td>\n",
       "      <td>280.649994</td>\n",
       "      <td>268.390015</td>\n",
       "      <td>278.170013</td>\n",
       "      <td>277.910156</td>\n",
       "      <td>40408900</td>\n",
       "    </tr>\n",
       "    <tr>\n",
       "      <th>2022-01-12</th>\n",
       "      <td>280.670013</td>\n",
       "      <td>285.950012</td>\n",
       "      <td>276.079987</td>\n",
       "      <td>279.989990</td>\n",
       "      <td>279.728394</td>\n",
       "      <td>38341300</td>\n",
       "    </tr>\n",
       "  </tbody>\n",
       "</table>\n",
       "</div>"
      ],
      "text/plain": [
       "                  Open        High         Low       Close   Adj Close  \\\n",
       "Date                                                                     \n",
       "2022-01-06  276.399994  284.380005  270.649994  281.779999  281.516724   \n",
       "2022-01-07  281.410004  284.220001  270.570007  272.470001  272.215424   \n",
       "2022-01-10  265.809998  274.690002  256.440002  274.000000  273.744049   \n",
       "2022-01-11  273.230011  280.649994  268.390015  278.170013  277.910156   \n",
       "2022-01-12  280.670013  285.950012  276.079987  279.989990  279.728394   \n",
       "\n",
       "              Volume  \n",
       "Date                  \n",
       "2022-01-06  45418600  \n",
       "2022-01-07  40993900  \n",
       "2022-01-10  59468100  \n",
       "2022-01-11  40408900  \n",
       "2022-01-12  38341300  "
      ]
     },
     "execution_count": 5,
     "metadata": {},
     "output_type": "execute_result"
    }
   ],
   "source": [
    "data.head()"
   ]
  },
  {
   "cell_type": "code",
   "execution_count": 6,
   "id": "3f926d62",
   "metadata": {},
   "outputs": [
    {
     "data": {
      "text/plain": [
       "Open         float64\n",
       "High         float64\n",
       "Low          float64\n",
       "Close        float64\n",
       "Adj Close    float64\n",
       "Volume         int64\n",
       "dtype: object"
      ]
     },
     "execution_count": 6,
     "metadata": {},
     "output_type": "execute_result"
    }
   ],
   "source": [
    "data.dtypes"
   ]
  },
  {
   "cell_type": "code",
   "execution_count": 7,
   "id": "7dd42d60",
   "metadata": {},
   "outputs": [
    {
     "data": {
      "text/plain": [
       "DatetimeIndex(['2022-01-06', '2022-01-07', '2022-01-10', '2022-01-11',\n",
       "               '2022-01-12', '2022-01-13', '2022-01-14', '2022-01-18',\n",
       "               '2022-01-19', '2022-01-20',\n",
       "               ...\n",
       "               '2022-12-21', '2022-12-22', '2022-12-23', '2022-12-27',\n",
       "               '2022-12-28', '2022-12-29', '2022-12-30', '2023-01-03',\n",
       "               '2023-01-04', '2023-01-05'],\n",
       "              dtype='datetime64[ns]', name='Date', length=251, freq=None)"
      ]
     },
     "execution_count": 7,
     "metadata": {},
     "output_type": "execute_result"
    }
   ],
   "source": [
    "data.index"
   ]
  },
  {
   "cell_type": "code",
   "execution_count": null,
   "id": "253130c4",
   "metadata": {},
   "outputs": [],
   "source": []
  },
  {
   "cell_type": "code",
   "execution_count": 8,
   "id": "2ca747e1",
   "metadata": {},
   "outputs": [
    {
     "data": {
      "text/plain": [
       "Open         2.764000e+02\n",
       "High         2.843800e+02\n",
       "Low          2.706500e+02\n",
       "Close        2.817800e+02\n",
       "Adj Close    2.815167e+02\n",
       "Volume       4.541860e+07\n",
       "Name: 2022-01-06 00:00:00, dtype: float64"
      ]
     },
     "execution_count": 8,
     "metadata": {},
     "output_type": "execute_result"
    }
   ],
   "source": [
    "data.loc['2022-01-06']\n",
    "# Accessing specific data record with a date."
   ]
  },
  {
   "cell_type": "code",
   "execution_count": 9,
   "id": "c3a71d99",
   "metadata": {},
   "outputs": [
    {
     "data": {
      "text/html": [
       "<div>\n",
       "<style scoped>\n",
       "    .dataframe tbody tr th:only-of-type {\n",
       "        vertical-align: middle;\n",
       "    }\n",
       "\n",
       "    .dataframe tbody tr th {\n",
       "        vertical-align: top;\n",
       "    }\n",
       "\n",
       "    .dataframe thead th {\n",
       "        text-align: right;\n",
       "    }\n",
       "</style>\n",
       "<table border=\"1\" class=\"dataframe\">\n",
       "  <thead>\n",
       "    <tr style=\"text-align: right;\">\n",
       "      <th></th>\n",
       "      <th>Open</th>\n",
       "      <th>High</th>\n",
       "      <th>Low</th>\n",
       "      <th>Close</th>\n",
       "      <th>Adj Close</th>\n",
       "      <th>Volume</th>\n",
       "    </tr>\n",
       "    <tr>\n",
       "      <th>Date</th>\n",
       "      <th></th>\n",
       "      <th></th>\n",
       "      <th></th>\n",
       "      <th></th>\n",
       "      <th></th>\n",
       "      <th></th>\n",
       "    </tr>\n",
       "  </thead>\n",
       "  <tbody>\n",
       "    <tr>\n",
       "      <th>2022-01-06</th>\n",
       "      <td>276.399994</td>\n",
       "      <td>284.380005</td>\n",
       "      <td>270.649994</td>\n",
       "      <td>281.779999</td>\n",
       "      <td>281.516724</td>\n",
       "      <td>45418600</td>\n",
       "    </tr>\n",
       "    <tr>\n",
       "      <th>2022-01-07</th>\n",
       "      <td>281.410004</td>\n",
       "      <td>284.220001</td>\n",
       "      <td>270.570007</td>\n",
       "      <td>272.470001</td>\n",
       "      <td>272.215424</td>\n",
       "      <td>40993900</td>\n",
       "    </tr>\n",
       "    <tr>\n",
       "      <th>2022-01-10</th>\n",
       "      <td>265.809998</td>\n",
       "      <td>274.690002</td>\n",
       "      <td>256.440002</td>\n",
       "      <td>274.000000</td>\n",
       "      <td>273.744049</td>\n",
       "      <td>59468100</td>\n",
       "    </tr>\n",
       "    <tr>\n",
       "      <th>2022-01-11</th>\n",
       "      <td>273.230011</td>\n",
       "      <td>280.649994</td>\n",
       "      <td>268.390015</td>\n",
       "      <td>278.170013</td>\n",
       "      <td>277.910156</td>\n",
       "      <td>40408900</td>\n",
       "    </tr>\n",
       "    <tr>\n",
       "      <th>2022-01-12</th>\n",
       "      <td>280.670013</td>\n",
       "      <td>285.950012</td>\n",
       "      <td>276.079987</td>\n",
       "      <td>279.989990</td>\n",
       "      <td>279.728394</td>\n",
       "      <td>38341300</td>\n",
       "    </tr>\n",
       "    <tr>\n",
       "      <th>...</th>\n",
       "      <td>...</td>\n",
       "      <td>...</td>\n",
       "      <td>...</td>\n",
       "      <td>...</td>\n",
       "      <td>...</td>\n",
       "      <td>...</td>\n",
       "    </tr>\n",
       "    <tr>\n",
       "      <th>2022-12-29</th>\n",
       "      <td>144.020004</td>\n",
       "      <td>146.830002</td>\n",
       "      <td>142.270004</td>\n",
       "      <td>146.029999</td>\n",
       "      <td>146.029999</td>\n",
       "      <td>35492300</td>\n",
       "    </tr>\n",
       "    <tr>\n",
       "      <th>2022-12-30</th>\n",
       "      <td>143.339996</td>\n",
       "      <td>146.289993</td>\n",
       "      <td>142.330002</td>\n",
       "      <td>146.139999</td>\n",
       "      <td>146.139999</td>\n",
       "      <td>31027300</td>\n",
       "    </tr>\n",
       "    <tr>\n",
       "      <th>2023-01-03</th>\n",
       "      <td>148.509995</td>\n",
       "      <td>149.960007</td>\n",
       "      <td>140.960007</td>\n",
       "      <td>143.149994</td>\n",
       "      <td>143.149994</td>\n",
       "      <td>40127700</td>\n",
       "    </tr>\n",
       "    <tr>\n",
       "      <th>2023-01-04</th>\n",
       "      <td>145.669998</td>\n",
       "      <td>148.529999</td>\n",
       "      <td>142.410004</td>\n",
       "      <td>147.490005</td>\n",
       "      <td>147.490005</td>\n",
       "      <td>43132400</td>\n",
       "    </tr>\n",
       "    <tr>\n",
       "      <th>2023-01-05</th>\n",
       "      <td>144.910004</td>\n",
       "      <td>145.639999</td>\n",
       "      <td>141.479996</td>\n",
       "      <td>142.649994</td>\n",
       "      <td>142.649994</td>\n",
       "      <td>38871200</td>\n",
       "    </tr>\n",
       "  </tbody>\n",
       "</table>\n",
       "<p>251 rows × 6 columns</p>\n",
       "</div>"
      ],
      "text/plain": [
       "                  Open        High         Low       Close   Adj Close  \\\n",
       "Date                                                                     \n",
       "2022-01-06  276.399994  284.380005  270.649994  281.779999  281.516724   \n",
       "2022-01-07  281.410004  284.220001  270.570007  272.470001  272.215424   \n",
       "2022-01-10  265.809998  274.690002  256.440002  274.000000  273.744049   \n",
       "2022-01-11  273.230011  280.649994  268.390015  278.170013  277.910156   \n",
       "2022-01-12  280.670013  285.950012  276.079987  279.989990  279.728394   \n",
       "...                ...         ...         ...         ...         ...   \n",
       "2022-12-29  144.020004  146.830002  142.270004  146.029999  146.029999   \n",
       "2022-12-30  143.339996  146.289993  142.330002  146.139999  146.139999   \n",
       "2023-01-03  148.509995  149.960007  140.960007  143.149994  143.149994   \n",
       "2023-01-04  145.669998  148.529999  142.410004  147.490005  147.490005   \n",
       "2023-01-05  144.910004  145.639999  141.479996  142.649994  142.649994   \n",
       "\n",
       "              Volume  \n",
       "Date                  \n",
       "2022-01-06  45418600  \n",
       "2022-01-07  40993900  \n",
       "2022-01-10  59468100  \n",
       "2022-01-11  40408900  \n",
       "2022-01-12  38341300  \n",
       "...              ...  \n",
       "2022-12-29  35492300  \n",
       "2022-12-30  31027300  \n",
       "2023-01-03  40127700  \n",
       "2023-01-04  43132400  \n",
       "2023-01-05  38871200  \n",
       "\n",
       "[251 rows x 6 columns]"
      ]
     },
     "execution_count": 9,
     "metadata": {},
     "output_type": "execute_result"
    }
   ],
   "source": [
    "data.loc['2022-01-06':]"
   ]
  },
  {
   "cell_type": "code",
   "execution_count": 10,
   "id": "712e00d9",
   "metadata": {},
   "outputs": [
    {
     "data": {
      "text/html": [
       "<div>\n",
       "<style scoped>\n",
       "    .dataframe tbody tr th:only-of-type {\n",
       "        vertical-align: middle;\n",
       "    }\n",
       "\n",
       "    .dataframe tbody tr th {\n",
       "        vertical-align: top;\n",
       "    }\n",
       "\n",
       "    .dataframe thead th {\n",
       "        text-align: right;\n",
       "    }\n",
       "</style>\n",
       "<table border=\"1\" class=\"dataframe\">\n",
       "  <thead>\n",
       "    <tr style=\"text-align: right;\">\n",
       "      <th></th>\n",
       "      <th>Open</th>\n",
       "      <th>High</th>\n",
       "      <th>Low</th>\n",
       "      <th>Close</th>\n",
       "      <th>Adj Close</th>\n",
       "      <th>Volume</th>\n",
       "    </tr>\n",
       "    <tr>\n",
       "      <th>Date</th>\n",
       "      <th></th>\n",
       "      <th></th>\n",
       "      <th></th>\n",
       "      <th></th>\n",
       "      <th></th>\n",
       "      <th></th>\n",
       "    </tr>\n",
       "  </thead>\n",
       "  <tbody>\n",
       "    <tr>\n",
       "      <th>2022-01-06</th>\n",
       "      <td>276.399994</td>\n",
       "      <td>284.380005</td>\n",
       "      <td>270.649994</td>\n",
       "      <td>281.779999</td>\n",
       "      <td>281.516724</td>\n",
       "      <td>45418600</td>\n",
       "    </tr>\n",
       "    <tr>\n",
       "      <th>2022-01-07</th>\n",
       "      <td>281.410004</td>\n",
       "      <td>284.220001</td>\n",
       "      <td>270.570007</td>\n",
       "      <td>272.470001</td>\n",
       "      <td>272.215424</td>\n",
       "      <td>40993900</td>\n",
       "    </tr>\n",
       "    <tr>\n",
       "      <th>2022-01-10</th>\n",
       "      <td>265.809998</td>\n",
       "      <td>274.690002</td>\n",
       "      <td>256.440002</td>\n",
       "      <td>274.000000</td>\n",
       "      <td>273.744049</td>\n",
       "      <td>59468100</td>\n",
       "    </tr>\n",
       "    <tr>\n",
       "      <th>2022-01-11</th>\n",
       "      <td>273.230011</td>\n",
       "      <td>280.649994</td>\n",
       "      <td>268.390015</td>\n",
       "      <td>278.170013</td>\n",
       "      <td>277.910156</td>\n",
       "      <td>40408900</td>\n",
       "    </tr>\n",
       "    <tr>\n",
       "      <th>2022-01-12</th>\n",
       "      <td>280.670013</td>\n",
       "      <td>285.950012</td>\n",
       "      <td>276.079987</td>\n",
       "      <td>279.989990</td>\n",
       "      <td>279.728394</td>\n",
       "      <td>38341300</td>\n",
       "    </tr>\n",
       "    <tr>\n",
       "      <th>...</th>\n",
       "      <td>...</td>\n",
       "      <td>...</td>\n",
       "      <td>...</td>\n",
       "      <td>...</td>\n",
       "      <td>...</td>\n",
       "      <td>...</td>\n",
       "    </tr>\n",
       "    <tr>\n",
       "      <th>2022-03-31</th>\n",
       "      <td>277.820007</td>\n",
       "      <td>282.480011</td>\n",
       "      <td>272.700012</td>\n",
       "      <td>272.859985</td>\n",
       "      <td>272.651520</td>\n",
       "      <td>52344000</td>\n",
       "    </tr>\n",
       "    <tr>\n",
       "      <th>2022-04-01</th>\n",
       "      <td>273.750000</td>\n",
       "      <td>274.959991</td>\n",
       "      <td>262.670013</td>\n",
       "      <td>267.119995</td>\n",
       "      <td>266.915894</td>\n",
       "      <td>51723500</td>\n",
       "    </tr>\n",
       "    <tr>\n",
       "      <th>2022-04-04</th>\n",
       "      <td>267.279999</td>\n",
       "      <td>275.579987</td>\n",
       "      <td>266.130005</td>\n",
       "      <td>273.600006</td>\n",
       "      <td>273.390961</td>\n",
       "      <td>39712000</td>\n",
       "    </tr>\n",
       "    <tr>\n",
       "      <th>2022-04-05</th>\n",
       "      <td>272.540009</td>\n",
       "      <td>273.190002</td>\n",
       "      <td>258.200012</td>\n",
       "      <td>259.309998</td>\n",
       "      <td>259.111877</td>\n",
       "      <td>43661500</td>\n",
       "    </tr>\n",
       "    <tr>\n",
       "      <th>2022-04-06</th>\n",
       "      <td>249.339996</td>\n",
       "      <td>253.000000</td>\n",
       "      <td>240.029999</td>\n",
       "      <td>244.070007</td>\n",
       "      <td>243.883530</td>\n",
       "      <td>70383300</td>\n",
       "    </tr>\n",
       "  </tbody>\n",
       "</table>\n",
       "<p>63 rows × 6 columns</p>\n",
       "</div>"
      ],
      "text/plain": [
       "                  Open        High         Low       Close   Adj Close  \\\n",
       "Date                                                                     \n",
       "2022-01-06  276.399994  284.380005  270.649994  281.779999  281.516724   \n",
       "2022-01-07  281.410004  284.220001  270.570007  272.470001  272.215424   \n",
       "2022-01-10  265.809998  274.690002  256.440002  274.000000  273.744049   \n",
       "2022-01-11  273.230011  280.649994  268.390015  278.170013  277.910156   \n",
       "2022-01-12  280.670013  285.950012  276.079987  279.989990  279.728394   \n",
       "...                ...         ...         ...         ...         ...   \n",
       "2022-03-31  277.820007  282.480011  272.700012  272.859985  272.651520   \n",
       "2022-04-01  273.750000  274.959991  262.670013  267.119995  266.915894   \n",
       "2022-04-04  267.279999  275.579987  266.130005  273.600006  273.390961   \n",
       "2022-04-05  272.540009  273.190002  258.200012  259.309998  259.111877   \n",
       "2022-04-06  249.339996  253.000000  240.029999  244.070007  243.883530   \n",
       "\n",
       "              Volume  \n",
       "Date                  \n",
       "2022-01-06  45418600  \n",
       "2022-01-07  40993900  \n",
       "2022-01-10  59468100  \n",
       "2022-01-11  40408900  \n",
       "2022-01-12  38341300  \n",
       "...              ...  \n",
       "2022-03-31  52344000  \n",
       "2022-04-01  51723500  \n",
       "2022-04-04  39712000  \n",
       "2022-04-05  43661500  \n",
       "2022-04-06  70383300  \n",
       "\n",
       "[63 rows x 6 columns]"
      ]
     },
     "execution_count": 10,
     "metadata": {},
     "output_type": "execute_result"
    }
   ],
   "source": [
    "# A range of data, for example a financial quarter:\n",
    "data.loc['2022-01-06':'2022-04-06']"
   ]
  },
  {
   "cell_type": "code",
   "execution_count": 11,
   "id": "c8146493",
   "metadata": {},
   "outputs": [
    {
     "data": {
      "text/plain": [
       "Open         2.764000e+02\n",
       "High         2.843800e+02\n",
       "Low          2.706500e+02\n",
       "Close        2.817800e+02\n",
       "Adj Close    2.815167e+02\n",
       "Volume       4.541860e+07\n",
       "Name: 2022-01-06 00:00:00, dtype: float64"
      ]
     },
     "execution_count": 11,
     "metadata": {},
     "output_type": "execute_result"
    }
   ],
   "source": [
    "# The first day and the last day\n",
    "data.iloc[0]"
   ]
  },
  {
   "cell_type": "code",
   "execution_count": 12,
   "id": "d760e54e",
   "metadata": {},
   "outputs": [
    {
     "data": {
      "text/plain": [
       "Open         1.449100e+02\n",
       "High         1.456400e+02\n",
       "Low          1.414800e+02\n",
       "Close        1.426500e+02\n",
       "Adj Close    1.426500e+02\n",
       "Volume       3.887120e+07\n",
       "Name: 2023-01-05 00:00:00, dtype: float64"
      ]
     },
     "execution_count": 12,
     "metadata": {},
     "output_type": "execute_result"
    }
   ],
   "source": [
    "data.iloc[-1]\n",
    "# The data has been indexed with location and ilocation"
   ]
  },
  {
   "cell_type": "code",
   "execution_count": 13,
   "id": "b24effaf",
   "metadata": {},
   "outputs": [
    {
     "data": {
      "text/html": [
       "<div>\n",
       "<style scoped>\n",
       "    .dataframe tbody tr th:only-of-type {\n",
       "        vertical-align: middle;\n",
       "    }\n",
       "\n",
       "    .dataframe tbody tr th {\n",
       "        vertical-align: top;\n",
       "    }\n",
       "\n",
       "    .dataframe thead th {\n",
       "        text-align: right;\n",
       "    }\n",
       "</style>\n",
       "<table border=\"1\" class=\"dataframe\">\n",
       "  <thead>\n",
       "    <tr style=\"text-align: right;\">\n",
       "      <th></th>\n",
       "      <th>Open</th>\n",
       "      <th>High</th>\n",
       "      <th>Low</th>\n",
       "      <th>Close</th>\n",
       "      <th>Adj Close</th>\n",
       "      <th>Volume</th>\n",
       "    </tr>\n",
       "    <tr>\n",
       "      <th>Date</th>\n",
       "      <th></th>\n",
       "      <th></th>\n",
       "      <th></th>\n",
       "      <th></th>\n",
       "      <th></th>\n",
       "      <th></th>\n",
       "    </tr>\n",
       "  </thead>\n",
       "  <tbody>\n",
       "    <tr>\n",
       "      <th>2022-12-29</th>\n",
       "      <td>144.020004</td>\n",
       "      <td>146.830002</td>\n",
       "      <td>142.270004</td>\n",
       "      <td>146.029999</td>\n",
       "      <td>146.029999</td>\n",
       "      <td>35492300</td>\n",
       "    </tr>\n",
       "    <tr>\n",
       "      <th>2022-12-30</th>\n",
       "      <td>143.339996</td>\n",
       "      <td>146.289993</td>\n",
       "      <td>142.330002</td>\n",
       "      <td>146.139999</td>\n",
       "      <td>146.139999</td>\n",
       "      <td>31027300</td>\n",
       "    </tr>\n",
       "    <tr>\n",
       "      <th>2023-01-03</th>\n",
       "      <td>148.509995</td>\n",
       "      <td>149.960007</td>\n",
       "      <td>140.960007</td>\n",
       "      <td>143.149994</td>\n",
       "      <td>143.149994</td>\n",
       "      <td>40127700</td>\n",
       "    </tr>\n",
       "    <tr>\n",
       "      <th>2023-01-04</th>\n",
       "      <td>145.669998</td>\n",
       "      <td>148.529999</td>\n",
       "      <td>142.410004</td>\n",
       "      <td>147.490005</td>\n",
       "      <td>147.490005</td>\n",
       "      <td>43132400</td>\n",
       "    </tr>\n",
       "    <tr>\n",
       "      <th>2023-01-05</th>\n",
       "      <td>144.910004</td>\n",
       "      <td>145.639999</td>\n",
       "      <td>141.479996</td>\n",
       "      <td>142.649994</td>\n",
       "      <td>142.649994</td>\n",
       "      <td>38871200</td>\n",
       "    </tr>\n",
       "  </tbody>\n",
       "</table>\n",
       "</div>"
      ],
      "text/plain": [
       "                  Open        High         Low       Close   Adj Close  \\\n",
       "Date                                                                     \n",
       "2022-12-29  144.020004  146.830002  142.270004  146.029999  146.029999   \n",
       "2022-12-30  143.339996  146.289993  142.330002  146.139999  146.139999   \n",
       "2023-01-03  148.509995  149.960007  140.960007  143.149994  143.149994   \n",
       "2023-01-04  145.669998  148.529999  142.410004  147.490005  147.490005   \n",
       "2023-01-05  144.910004  145.639999  141.479996  142.649994  142.649994   \n",
       "\n",
       "              Volume  \n",
       "Date                  \n",
       "2022-12-29  35492300  \n",
       "2022-12-30  31027300  \n",
       "2023-01-03  40127700  \n",
       "2023-01-04  43132400  \n",
       "2023-01-05  38871200  "
      ]
     },
     "execution_count": 13,
     "metadata": {},
     "output_type": "execute_result"
    }
   ],
   "source": [
    "data.tail()"
   ]
  },
  {
   "cell_type": "code",
   "execution_count": 14,
   "id": "d65de461",
   "metadata": {},
   "outputs": [
    {
     "data": {
      "text/plain": [
       "pandas.core.frame.DataFrame"
      ]
     },
     "execution_count": 14,
     "metadata": {},
     "output_type": "execute_result"
    }
   ],
   "source": [
    "# Initial phase: the data has been extracted from a website, downloaded into a csv file manually, \n",
    "# and python has been used to extract data from a csv file.\n",
    "# The data types have been parsed.\n",
    "# The data has been indexed properly.\n",
    "\n",
    "# NEXT PHASE: manipulating columns, known as series, and performing calculations..\n",
    "# The aim is to calculate daily change, daily percentage change and normalise the data.\n",
    "# In the series, type function is used to get the data type.\n",
    "\n",
    "type(data)"
   ]
  },
  {
   "cell_type": "code",
   "execution_count": 15,
   "id": "341a2f61",
   "metadata": {},
   "outputs": [
    {
     "data": {
      "text/plain": [
       "Date\n",
       "2022-01-06    281.779999\n",
       "2022-01-07    272.470001\n",
       "2022-01-10    274.000000\n",
       "2022-01-11    278.170013\n",
       "2022-01-12    279.989990\n",
       "                 ...    \n",
       "2022-12-29    146.029999\n",
       "2022-12-30    146.139999\n",
       "2023-01-03    143.149994\n",
       "2023-01-04    147.490005\n",
       "2023-01-05    142.649994\n",
       "Name: Close, Length: 251, dtype: float64"
      ]
     },
     "execution_count": 15,
     "metadata": {},
     "output_type": "execute_result"
    }
   ],
   "source": [
    "# Acessing the closing column\n",
    "data['Close']"
   ]
  },
  {
   "cell_type": "code",
   "execution_count": 16,
   "id": "dafd9651",
   "metadata": {},
   "outputs": [
    {
     "data": {
      "text/plain": [
       "pandas.core.series.Series"
      ]
     },
     "execution_count": 16,
     "metadata": {},
     "output_type": "execute_result"
    }
   ],
   "source": [
    "type(data['Close'])\n",
    "# This is a series instead of a data frame."
   ]
  },
  {
   "cell_type": "code",
   "execution_count": 17,
   "id": "56ed281d",
   "metadata": {},
   "outputs": [
    {
     "data": {
      "text/plain": [
       "Open         float64\n",
       "High         float64\n",
       "Low          float64\n",
       "Close        float64\n",
       "Adj Close    float64\n",
       "Volume         int64\n",
       "dtype: object"
      ]
     },
     "execution_count": 17,
     "metadata": {},
     "output_type": "execute_result"
    }
   ],
   "source": [
    "data.dtypes"
   ]
  },
  {
   "cell_type": "code",
   "execution_count": 18,
   "id": "6083c14c",
   "metadata": {},
   "outputs": [],
   "source": [
    "# Unlike excel, the series has a restriction on the type of data that it contain, because\n",
    "# if there are restrictions on the data, calculations can be executed more quickly.\n",
    "# In excel, an individual record within a series can be a different data type.\n",
    "\n",
    "# Calculating the difference between the opening price and the close price:"
   ]
  },
  {
   "cell_type": "code",
   "execution_count": 19,
   "id": "347e7339",
   "metadata": {},
   "outputs": [
    {
     "data": {
      "text/plain": [
       "Date\n",
       "2022-01-06   -5.380005\n",
       "2022-01-07    8.940003\n",
       "2022-01-10   -8.190002\n",
       "2022-01-11   -4.940002\n",
       "2022-01-12    0.680023\n",
       "                ...   \n",
       "2022-12-29   -2.009995\n",
       "2022-12-30   -2.800003\n",
       "2023-01-03    5.360001\n",
       "2023-01-04   -1.820007\n",
       "2023-01-05    2.260010\n",
       "Length: 251, dtype: float64"
      ]
     },
     "execution_count": 19,
     "metadata": {},
     "output_type": "execute_result"
    }
   ],
   "source": [
    "data['Open'] - data['Close']"
   ]
  },
  {
   "cell_type": "code",
   "execution_count": 20,
   "id": "f15d68ce",
   "metadata": {},
   "outputs": [
    {
     "data": {
      "text/html": [
       "<div>\n",
       "<style scoped>\n",
       "    .dataframe tbody tr th:only-of-type {\n",
       "        vertical-align: middle;\n",
       "    }\n",
       "\n",
       "    .dataframe tbody tr th {\n",
       "        vertical-align: top;\n",
       "    }\n",
       "\n",
       "    .dataframe thead th {\n",
       "        text-align: right;\n",
       "    }\n",
       "</style>\n",
       "<table border=\"1\" class=\"dataframe\">\n",
       "  <thead>\n",
       "    <tr style=\"text-align: right;\">\n",
       "      <th></th>\n",
       "      <th>Open</th>\n",
       "      <th>High</th>\n",
       "      <th>Low</th>\n",
       "      <th>Close</th>\n",
       "      <th>Adj Close</th>\n",
       "      <th>Volume</th>\n",
       "    </tr>\n",
       "    <tr>\n",
       "      <th>Date</th>\n",
       "      <th></th>\n",
       "      <th></th>\n",
       "      <th></th>\n",
       "      <th></th>\n",
       "      <th></th>\n",
       "      <th></th>\n",
       "    </tr>\n",
       "  </thead>\n",
       "  <tbody>\n",
       "    <tr>\n",
       "      <th>2022-01-06</th>\n",
       "      <td>276.399994</td>\n",
       "      <td>284.380005</td>\n",
       "      <td>270.649994</td>\n",
       "      <td>281.779999</td>\n",
       "      <td>281.516724</td>\n",
       "      <td>45418600</td>\n",
       "    </tr>\n",
       "    <tr>\n",
       "      <th>2022-01-07</th>\n",
       "      <td>281.410004</td>\n",
       "      <td>284.220001</td>\n",
       "      <td>270.570007</td>\n",
       "      <td>272.470001</td>\n",
       "      <td>272.215424</td>\n",
       "      <td>40993900</td>\n",
       "    </tr>\n",
       "    <tr>\n",
       "      <th>2022-01-10</th>\n",
       "      <td>265.809998</td>\n",
       "      <td>274.690002</td>\n",
       "      <td>256.440002</td>\n",
       "      <td>274.000000</td>\n",
       "      <td>273.744049</td>\n",
       "      <td>59468100</td>\n",
       "    </tr>\n",
       "    <tr>\n",
       "      <th>2022-01-11</th>\n",
       "      <td>273.230011</td>\n",
       "      <td>280.649994</td>\n",
       "      <td>268.390015</td>\n",
       "      <td>278.170013</td>\n",
       "      <td>277.910156</td>\n",
       "      <td>40408900</td>\n",
       "    </tr>\n",
       "    <tr>\n",
       "      <th>2022-01-12</th>\n",
       "      <td>280.670013</td>\n",
       "      <td>285.950012</td>\n",
       "      <td>276.079987</td>\n",
       "      <td>279.989990</td>\n",
       "      <td>279.728394</td>\n",
       "      <td>38341300</td>\n",
       "    </tr>\n",
       "  </tbody>\n",
       "</table>\n",
       "</div>"
      ],
      "text/plain": [
       "                  Open        High         Low       Close   Adj Close  \\\n",
       "Date                                                                     \n",
       "2022-01-06  276.399994  284.380005  270.649994  281.779999  281.516724   \n",
       "2022-01-07  281.410004  284.220001  270.570007  272.470001  272.215424   \n",
       "2022-01-10  265.809998  274.690002  256.440002  274.000000  273.744049   \n",
       "2022-01-11  273.230011  280.649994  268.390015  278.170013  277.910156   \n",
       "2022-01-12  280.670013  285.950012  276.079987  279.989990  279.728394   \n",
       "\n",
       "              Volume  \n",
       "Date                  \n",
       "2022-01-06  45418600  \n",
       "2022-01-07  40993900  \n",
       "2022-01-10  59468100  \n",
       "2022-01-11  40408900  \n",
       "2022-01-12  38341300  "
      ]
     },
     "execution_count": 20,
     "metadata": {},
     "output_type": "execute_result"
    }
   ],
   "source": [
    "data.head()\n",
    "# Open - Close is equal to what is shown"
   ]
  },
  {
   "cell_type": "code",
   "execution_count": 21,
   "id": "3e324755",
   "metadata": {},
   "outputs": [
    {
     "data": {
      "text/plain": [
       "Date\n",
       "2022-01-06   -5.380005\n",
       "2022-01-07    8.940003\n",
       "2022-01-10   -8.190002\n",
       "2022-01-11   -4.940002\n",
       "2022-01-12    0.680023\n",
       "                ...   \n",
       "2022-12-29   -2.009995\n",
       "2022-12-30   -2.800003\n",
       "2023-01-03    5.360001\n",
       "2023-01-04   -1.820007\n",
       "2023-01-05    2.260010\n",
       "Length: 251, dtype: float64"
      ]
     },
     "execution_count": 21,
     "metadata": {},
     "output_type": "execute_result"
    }
   ],
   "source": [
    "daily_change = data['Open'] - data['Close']\n",
    "daily_change"
   ]
  },
  {
   "cell_type": "code",
   "execution_count": 22,
   "id": "f354be47",
   "metadata": {},
   "outputs": [
    {
     "data": {
      "text/plain": [
       "pandas.core.series.Series"
      ]
     },
     "execution_count": 22,
     "metadata": {},
     "output_type": "execute_result"
    }
   ],
   "source": [
    "type(daily_change)"
   ]
  },
  {
   "cell_type": "code",
   "execution_count": 23,
   "id": "71bbdfda",
   "metadata": {},
   "outputs": [
    {
     "data": {
      "text/plain": [
       "Date\n",
       "2022-01-06    1.946456\n",
       "2022-01-07   -3.176860\n",
       "2022-01-10    3.081149\n",
       "2022-01-11    1.808001\n",
       "2022-01-12   -0.242286\n",
       "                ...   \n",
       "2022-12-29    1.395636\n",
       "2022-12-30    1.953400\n",
       "2023-01-03   -3.609185\n",
       "2023-01-04    1.249404\n",
       "2023-01-05   -1.559596\n",
       "Length: 251, dtype: float64"
      ]
     },
     "execution_count": 23,
     "metadata": {},
     "output_type": "execute_result"
    }
   ],
   "source": [
    "#Calculating the daily percentage change\n",
    "daily_percentage_change = (data['Close'] - data['Open'])/data['Open']*100\n",
    "daily_percentage_change"
   ]
  },
  {
   "cell_type": "code",
   "execution_count": 24,
   "id": "514e128d",
   "metadata": {},
   "outputs": [
    {
     "data": {
      "text/plain": [
       "281.779999"
      ]
     },
     "execution_count": 24,
     "metadata": {},
     "output_type": "execute_result"
    }
   ],
   "source": [
    "# Normalising the data: to calculate the growth from an arbritrary baseline, the data can be \n",
    "# 'normalised'. \n",
    "\n",
    "# First record\n",
    "data['Close'].iloc[0]"
   ]
  },
  {
   "cell_type": "code",
   "execution_count": 25,
   "id": "078f6605",
   "metadata": {},
   "outputs": [
    {
     "data": {
      "text/plain": [
       "142.649994"
      ]
     },
     "execution_count": 25,
     "metadata": {},
     "output_type": "execute_result"
    }
   ],
   "source": [
    "# Last record\n",
    "data['Close'].iloc[-1]"
   ]
  },
  {
   "cell_type": "code",
   "execution_count": 26,
   "id": "2d66c08b",
   "metadata": {},
   "outputs": [
    {
     "data": {
      "text/plain": [
       "Date\n",
       "2022-01-06    1.000000\n",
       "2022-01-07    0.966960\n",
       "2022-01-10    0.972390\n",
       "2022-01-11    0.987189\n",
       "2022-01-12    0.993647\n",
       "                ...   \n",
       "2022-12-29    0.518241\n",
       "2022-12-30    0.518632\n",
       "2023-01-03    0.508020\n",
       "2023-01-04    0.523423\n",
       "2023-01-05    0.506246\n",
       "Name: Close, Length: 251, dtype: float64"
      ]
     },
     "execution_count": 26,
     "metadata": {},
     "output_type": "execute_result"
    }
   ],
   "source": [
    "# How much did it grow?\n",
    "norm = data['Close']/data['Close'].iloc[0]\n",
    "norm"
   ]
  },
  {
   "cell_type": "code",
   "execution_count": 27,
   "id": "62fb858d",
   "metadata": {},
   "outputs": [
    {
     "data": {
      "text/plain": [
       "142.64999399999996"
      ]
     },
     "execution_count": 27,
     "metadata": {},
     "output_type": "execute_result"
    }
   ],
   "source": [
    "data['Close'].iloc[0]*norm.iloc[-1]"
   ]
  },
  {
   "cell_type": "code",
   "execution_count": 28,
   "id": "aaa27889",
   "metadata": {},
   "outputs": [
    {
     "data": {
      "text/plain": [
       "142.649994"
      ]
     },
     "execution_count": 28,
     "metadata": {},
     "output_type": "execute_result"
    }
   ],
   "source": [
    "data['Close'].iloc[-1]"
   ]
  },
  {
   "cell_type": "code",
   "execution_count": 38,
   "id": "8ba599f8",
   "metadata": {},
   "outputs": [
    {
     "data": {
      "text/html": [
       "<div>\n",
       "<style scoped>\n",
       "    .dataframe tbody tr th:only-of-type {\n",
       "        vertical-align: middle;\n",
       "    }\n",
       "\n",
       "    .dataframe tbody tr th {\n",
       "        vertical-align: top;\n",
       "    }\n",
       "\n",
       "    .dataframe thead th {\n",
       "        text-align: right;\n",
       "    }\n",
       "</style>\n",
       "<table border=\"1\" class=\"dataframe\">\n",
       "  <thead>\n",
       "    <tr style=\"text-align: right;\">\n",
       "      <th></th>\n",
       "      <th>Open</th>\n",
       "      <th>High</th>\n",
       "      <th>Low</th>\n",
       "      <th>Close</th>\n",
       "      <th>Adj Close</th>\n",
       "      <th>Volume</th>\n",
       "      <th>Daily chg</th>\n",
       "      <th>Normalised</th>\n",
       "    </tr>\n",
       "    <tr>\n",
       "      <th>Date</th>\n",
       "      <th></th>\n",
       "      <th></th>\n",
       "      <th></th>\n",
       "      <th></th>\n",
       "      <th></th>\n",
       "      <th></th>\n",
       "      <th></th>\n",
       "      <th></th>\n",
       "    </tr>\n",
       "  </thead>\n",
       "  <tbody>\n",
       "    <tr>\n",
       "      <th>2022-01-06</th>\n",
       "      <td>276.399994</td>\n",
       "      <td>284.380005</td>\n",
       "      <td>270.649994</td>\n",
       "      <td>281.779999</td>\n",
       "      <td>281.516724</td>\n",
       "      <td>45418600</td>\n",
       "      <td>5.380005</td>\n",
       "      <td>1.000000</td>\n",
       "    </tr>\n",
       "    <tr>\n",
       "      <th>2022-01-07</th>\n",
       "      <td>281.410004</td>\n",
       "      <td>284.220001</td>\n",
       "      <td>270.570007</td>\n",
       "      <td>272.470001</td>\n",
       "      <td>272.215424</td>\n",
       "      <td>40993900</td>\n",
       "      <td>-8.940003</td>\n",
       "      <td>0.966960</td>\n",
       "    </tr>\n",
       "    <tr>\n",
       "      <th>2022-01-10</th>\n",
       "      <td>265.809998</td>\n",
       "      <td>274.690002</td>\n",
       "      <td>256.440002</td>\n",
       "      <td>274.000000</td>\n",
       "      <td>273.744049</td>\n",
       "      <td>59468100</td>\n",
       "      <td>8.190002</td>\n",
       "      <td>0.972390</td>\n",
       "    </tr>\n",
       "    <tr>\n",
       "      <th>2022-01-11</th>\n",
       "      <td>273.230011</td>\n",
       "      <td>280.649994</td>\n",
       "      <td>268.390015</td>\n",
       "      <td>278.170013</td>\n",
       "      <td>277.910156</td>\n",
       "      <td>40408900</td>\n",
       "      <td>4.940002</td>\n",
       "      <td>0.987189</td>\n",
       "    </tr>\n",
       "    <tr>\n",
       "      <th>2022-01-12</th>\n",
       "      <td>280.670013</td>\n",
       "      <td>285.950012</td>\n",
       "      <td>276.079987</td>\n",
       "      <td>279.989990</td>\n",
       "      <td>279.728394</td>\n",
       "      <td>38341300</td>\n",
       "      <td>-0.680023</td>\n",
       "      <td>0.993647</td>\n",
       "    </tr>\n",
       "  </tbody>\n",
       "</table>\n",
       "</div>"
      ],
      "text/plain": [
       "                  Open        High         Low       Close   Adj Close  \\\n",
       "Date                                                                     \n",
       "2022-01-06  276.399994  284.380005  270.649994  281.779999  281.516724   \n",
       "2022-01-07  281.410004  284.220001  270.570007  272.470001  272.215424   \n",
       "2022-01-10  265.809998  274.690002  256.440002  274.000000  273.744049   \n",
       "2022-01-11  273.230011  280.649994  268.390015  278.170013  277.910156   \n",
       "2022-01-12  280.670013  285.950012  276.079987  279.989990  279.728394   \n",
       "\n",
       "              Volume  Daily chg  Normalised  \n",
       "Date                                         \n",
       "2022-01-06  45418600   5.380005    1.000000  \n",
       "2022-01-07  40993900  -8.940003    0.966960  \n",
       "2022-01-10  59468100   8.190002    0.972390  \n",
       "2022-01-11  40408900   4.940002    0.987189  \n",
       "2022-01-12  38341300  -0.680023    0.993647  "
      ]
     },
     "execution_count": 38,
     "metadata": {},
     "output_type": "execute_result"
    }
   ],
   "source": [
    "# One year of investvestment in NVDA stock from 2022 to 2023 has resulted in an increase of 50.6%\n",
    "# This second phase: calculated daily change, daily percentage change, normalised the data\n",
    "\n",
    "# THIRD PHASE: modify the dataframe so that new columns are added with useful calculations for \n",
    "# continuing the financial analysis.\n",
    "# Calculate minimum, maximum, argmin and argmax values in the columns\n",
    "# Calculate the average\n",
    "\n",
    "# Taking the current data frame and adding a column that calculates the daily change:\n",
    "data['Daily chg'] = data['Close']-data['Open']\n",
    "data.head()\n"
   ]
  },
  {
   "cell_type": "code",
   "execution_count": 41,
   "id": "21795ee9",
   "metadata": {},
   "outputs": [
    {
     "data": {
      "text/html": [
       "<div>\n",
       "<style scoped>\n",
       "    .dataframe tbody tr th:only-of-type {\n",
       "        vertical-align: middle;\n",
       "    }\n",
       "\n",
       "    .dataframe tbody tr th {\n",
       "        vertical-align: top;\n",
       "    }\n",
       "\n",
       "    .dataframe thead th {\n",
       "        text-align: right;\n",
       "    }\n",
       "</style>\n",
       "<table border=\"1\" class=\"dataframe\">\n",
       "  <thead>\n",
       "    <tr style=\"text-align: right;\">\n",
       "      <th></th>\n",
       "      <th>Open</th>\n",
       "      <th>High</th>\n",
       "      <th>Low</th>\n",
       "      <th>Close</th>\n",
       "      <th>Adj Close</th>\n",
       "      <th>Volume</th>\n",
       "      <th>Daily chg</th>\n",
       "      <th>Normalised</th>\n",
       "    </tr>\n",
       "    <tr>\n",
       "      <th>Date</th>\n",
       "      <th></th>\n",
       "      <th></th>\n",
       "      <th></th>\n",
       "      <th></th>\n",
       "      <th></th>\n",
       "      <th></th>\n",
       "      <th></th>\n",
       "      <th></th>\n",
       "    </tr>\n",
       "  </thead>\n",
       "  <tbody>\n",
       "    <tr>\n",
       "      <th>2022-01-06</th>\n",
       "      <td>276.399994</td>\n",
       "      <td>284.380005</td>\n",
       "      <td>270.649994</td>\n",
       "      <td>281.779999</td>\n",
       "      <td>281.516724</td>\n",
       "      <td>45418600</td>\n",
       "      <td>5.380005</td>\n",
       "      <td>1.000000</td>\n",
       "    </tr>\n",
       "    <tr>\n",
       "      <th>2022-01-07</th>\n",
       "      <td>281.410004</td>\n",
       "      <td>284.220001</td>\n",
       "      <td>270.570007</td>\n",
       "      <td>272.470001</td>\n",
       "      <td>272.215424</td>\n",
       "      <td>40993900</td>\n",
       "      <td>-8.940003</td>\n",
       "      <td>0.966960</td>\n",
       "    </tr>\n",
       "    <tr>\n",
       "      <th>2022-01-10</th>\n",
       "      <td>265.809998</td>\n",
       "      <td>274.690002</td>\n",
       "      <td>256.440002</td>\n",
       "      <td>274.000000</td>\n",
       "      <td>273.744049</td>\n",
       "      <td>59468100</td>\n",
       "      <td>8.190002</td>\n",
       "      <td>0.972390</td>\n",
       "    </tr>\n",
       "    <tr>\n",
       "      <th>2022-01-11</th>\n",
       "      <td>273.230011</td>\n",
       "      <td>280.649994</td>\n",
       "      <td>268.390015</td>\n",
       "      <td>278.170013</td>\n",
       "      <td>277.910156</td>\n",
       "      <td>40408900</td>\n",
       "      <td>4.940002</td>\n",
       "      <td>0.987189</td>\n",
       "    </tr>\n",
       "    <tr>\n",
       "      <th>2022-01-12</th>\n",
       "      <td>280.670013</td>\n",
       "      <td>285.950012</td>\n",
       "      <td>276.079987</td>\n",
       "      <td>279.989990</td>\n",
       "      <td>279.728394</td>\n",
       "      <td>38341300</td>\n",
       "      <td>-0.680023</td>\n",
       "      <td>0.993647</td>\n",
       "    </tr>\n",
       "  </tbody>\n",
       "</table>\n",
       "</div>"
      ],
      "text/plain": [
       "                  Open        High         Low       Close   Adj Close  \\\n",
       "Date                                                                     \n",
       "2022-01-06  276.399994  284.380005  270.649994  281.779999  281.516724   \n",
       "2022-01-07  281.410004  284.220001  270.570007  272.470001  272.215424   \n",
       "2022-01-10  265.809998  274.690002  256.440002  274.000000  273.744049   \n",
       "2022-01-11  273.230011  280.649994  268.390015  278.170013  277.910156   \n",
       "2022-01-12  280.670013  285.950012  276.079987  279.989990  279.728394   \n",
       "\n",
       "              Volume  Daily chg  Normalised  \n",
       "Date                                         \n",
       "2022-01-06  45418600   5.380005    1.000000  \n",
       "2022-01-07  40993900  -8.940003    0.966960  \n",
       "2022-01-10  59468100   8.190002    0.972390  \n",
       "2022-01-11  40408900   4.940002    0.987189  \n",
       "2022-01-12  38341300  -0.680023    0.993647  "
      ]
     },
     "execution_count": 41,
     "metadata": {},
     "output_type": "execute_result"
    }
   ],
   "source": [
    "# Adding a normalised column to the data frame:\n",
    "data['Normalised'] = data['Close']/data['Close'].iloc[0]\n",
    "data.head()\n"
   ]
  },
  {
   "cell_type": "code",
   "execution_count": 43,
   "id": "02819ae6",
   "metadata": {},
   "outputs": [
    {
     "data": {
      "text/plain": [
       "112.269997"
      ]
     },
     "execution_count": 43,
     "metadata": {},
     "output_type": "execute_result"
    }
   ],
   "source": [
    "# What is the minimum value (price of stock) at close of day?\n",
    "data['Close'].min()"
   ]
  },
  {
   "cell_type": "code",
   "execution_count": 45,
   "id": "6161159f",
   "metadata": {},
   "outputs": [
    {
     "data": {
      "text/plain": [
       "Open          1.097100e+02\n",
       "High          1.173500e+02\n",
       "Low           1.081300e+02\n",
       "Close         1.122700e+02\n",
       "Adj Close     1.122413e+02\n",
       "Volume        1.679340e+07\n",
       "Daily chg    -1.967000e+01\n",
       "Normalised    3.984314e-01\n",
       "dtype: float64"
      ]
     },
     "execution_count": 45,
     "metadata": {},
     "output_type": "execute_result"
    }
   ],
   "source": [
    "# Across all of the trading days, what is the minimum value of all the columns in the data frame?\n",
    "data.min()"
   ]
  },
  {
   "cell_type": "code",
   "execution_count": 46,
   "id": "17400637",
   "metadata": {},
   "outputs": [
    {
     "data": {
      "text/plain": [
       "194"
      ]
     },
     "execution_count": 46,
     "metadata": {},
     "output_type": "execute_result"
    }
   ],
   "source": [
    "# What is the minimum close price at the end of the trading day, from the entire stock price history?\n",
    "data['Close'].argmin()\n",
    "\n",
    "# This means that the 194th record holds the minimum closing price for the stock price history.\n",
    "# This corresponds to the data of 2022-10-14"
   ]
  },
  {
   "cell_type": "code",
   "execution_count": 48,
   "id": "250ab291",
   "metadata": {},
   "outputs": [
    {
     "data": {
      "text/plain": [
       "Open          1.205700e+02\n",
       "High          1.211100e+02\n",
       "Low           1.120400e+02\n",
       "Close         1.122700e+02\n",
       "Adj Close     1.122413e+02\n",
       "Volume        7.134320e+07\n",
       "Daily chg    -8.300003e+00\n",
       "Normalised    3.984314e-01\n",
       "Name: 2022-10-14 00:00:00, dtype: float64"
      ]
     },
     "execution_count": 48,
     "metadata": {},
     "output_type": "execute_result"
    }
   ],
   "source": [
    "# Using the minimum trading close price, what were the other series values for that trading day?\n",
    "data.iloc[194]"
   ]
  },
  {
   "cell_type": "code",
   "execution_count": 49,
   "id": "8080902b",
   "metadata": {},
   "outputs": [
    {
     "data": {
      "text/html": [
       "<div>\n",
       "<style scoped>\n",
       "    .dataframe tbody tr th:only-of-type {\n",
       "        vertical-align: middle;\n",
       "    }\n",
       "\n",
       "    .dataframe tbody tr th {\n",
       "        vertical-align: top;\n",
       "    }\n",
       "\n",
       "    .dataframe thead th {\n",
       "        text-align: right;\n",
       "    }\n",
       "</style>\n",
       "<table border=\"1\" class=\"dataframe\">\n",
       "  <thead>\n",
       "    <tr style=\"text-align: right;\">\n",
       "      <th></th>\n",
       "      <th>Open</th>\n",
       "      <th>High</th>\n",
       "      <th>Low</th>\n",
       "      <th>Close</th>\n",
       "      <th>Adj Close</th>\n",
       "      <th>Volume</th>\n",
       "      <th>Daily chg</th>\n",
       "      <th>Normalised</th>\n",
       "    </tr>\n",
       "    <tr>\n",
       "      <th>Date</th>\n",
       "      <th></th>\n",
       "      <th></th>\n",
       "      <th></th>\n",
       "      <th></th>\n",
       "      <th></th>\n",
       "      <th></th>\n",
       "      <th></th>\n",
       "      <th></th>\n",
       "    </tr>\n",
       "  </thead>\n",
       "  <tbody>\n",
       "    <tr>\n",
       "      <th>2022-10-10</th>\n",
       "      <td>120.370003</td>\n",
       "      <td>121.239998</td>\n",
       "      <td>114.080002</td>\n",
       "      <td>116.699997</td>\n",
       "      <td>116.670151</td>\n",
       "      <td>69869900</td>\n",
       "      <td>-3.670006</td>\n",
       "      <td>0.414153</td>\n",
       "    </tr>\n",
       "    <tr>\n",
       "      <th>2022-10-11</th>\n",
       "      <td>115.610001</td>\n",
       "      <td>118.459999</td>\n",
       "      <td>112.830002</td>\n",
       "      <td>115.860001</td>\n",
       "      <td>115.830368</td>\n",
       "      <td>66748200</td>\n",
       "      <td>0.250000</td>\n",
       "      <td>0.411172</td>\n",
       "    </tr>\n",
       "    <tr>\n",
       "      <th>2022-10-12</th>\n",
       "      <td>115.790001</td>\n",
       "      <td>117.349998</td>\n",
       "      <td>113.449997</td>\n",
       "      <td>115.000000</td>\n",
       "      <td>114.970589</td>\n",
       "      <td>49259000</td>\n",
       "      <td>-0.790001</td>\n",
       "      <td>0.408120</td>\n",
       "    </tr>\n",
       "    <tr>\n",
       "      <th>2022-10-13</th>\n",
       "      <td>109.709999</td>\n",
       "      <td>120.779999</td>\n",
       "      <td>108.129997</td>\n",
       "      <td>119.599998</td>\n",
       "      <td>119.569412</td>\n",
       "      <td>85010300</td>\n",
       "      <td>9.889999</td>\n",
       "      <td>0.424445</td>\n",
       "    </tr>\n",
       "    <tr>\n",
       "      <th>2022-10-14</th>\n",
       "      <td>120.570000</td>\n",
       "      <td>121.110001</td>\n",
       "      <td>112.040001</td>\n",
       "      <td>112.269997</td>\n",
       "      <td>112.241280</td>\n",
       "      <td>71343200</td>\n",
       "      <td>-8.300003</td>\n",
       "      <td>0.398431</td>\n",
       "    </tr>\n",
       "    <tr>\n",
       "      <th>2022-10-17</th>\n",
       "      <td>115.180000</td>\n",
       "      <td>119.480003</td>\n",
       "      <td>115.169998</td>\n",
       "      <td>118.879997</td>\n",
       "      <td>118.849594</td>\n",
       "      <td>58077400</td>\n",
       "      <td>3.699997</td>\n",
       "      <td>0.421889</td>\n",
       "    </tr>\n",
       "    <tr>\n",
       "      <th>2022-10-18</th>\n",
       "      <td>123.440002</td>\n",
       "      <td>124.919998</td>\n",
       "      <td>116.180000</td>\n",
       "      <td>119.669998</td>\n",
       "      <td>119.639389</td>\n",
       "      <td>65936200</td>\n",
       "      <td>-3.770004</td>\n",
       "      <td>0.424693</td>\n",
       "    </tr>\n",
       "    <tr>\n",
       "      <th>2022-10-19</th>\n",
       "      <td>118.790001</td>\n",
       "      <td>123.500000</td>\n",
       "      <td>118.339996</td>\n",
       "      <td>120.510002</td>\n",
       "      <td>120.479179</td>\n",
       "      <td>52313100</td>\n",
       "      <td>1.720001</td>\n",
       "      <td>0.427674</td>\n",
       "    </tr>\n",
       "    <tr>\n",
       "      <th>2022-10-20</th>\n",
       "      <td>121.129997</td>\n",
       "      <td>127.690002</td>\n",
       "      <td>121.050003</td>\n",
       "      <td>121.940002</td>\n",
       "      <td>121.908813</td>\n",
       "      <td>65239800</td>\n",
       "      <td>0.810005</td>\n",
       "      <td>0.432749</td>\n",
       "    </tr>\n",
       "  </tbody>\n",
       "</table>\n",
       "</div>"
      ],
      "text/plain": [
       "                  Open        High         Low       Close   Adj Close  \\\n",
       "Date                                                                     \n",
       "2022-10-10  120.370003  121.239998  114.080002  116.699997  116.670151   \n",
       "2022-10-11  115.610001  118.459999  112.830002  115.860001  115.830368   \n",
       "2022-10-12  115.790001  117.349998  113.449997  115.000000  114.970589   \n",
       "2022-10-13  109.709999  120.779999  108.129997  119.599998  119.569412   \n",
       "2022-10-14  120.570000  121.110001  112.040001  112.269997  112.241280   \n",
       "2022-10-17  115.180000  119.480003  115.169998  118.879997  118.849594   \n",
       "2022-10-18  123.440002  124.919998  116.180000  119.669998  119.639389   \n",
       "2022-10-19  118.790001  123.500000  118.339996  120.510002  120.479179   \n",
       "2022-10-20  121.129997  127.690002  121.050003  121.940002  121.908813   \n",
       "\n",
       "              Volume  Daily chg  Normalised  \n",
       "Date                                         \n",
       "2022-10-10  69869900  -3.670006    0.414153  \n",
       "2022-10-11  66748200   0.250000    0.411172  \n",
       "2022-10-12  49259000  -0.790001    0.408120  \n",
       "2022-10-13  85010300   9.889999    0.424445  \n",
       "2022-10-14  71343200  -8.300003    0.398431  \n",
       "2022-10-17  58077400   3.699997    0.421889  \n",
       "2022-10-18  65936200  -3.770004    0.424693  \n",
       "2022-10-19  52313100   1.720001    0.427674  \n",
       "2022-10-20  65239800   0.810005    0.432749  "
      ]
     },
     "execution_count": 49,
     "metadata": {},
     "output_type": "execute_result"
    }
   ],
   "source": [
    "# Looking at the range of stock price history just before, and just after:\n",
    "data.iloc[190:199]\n",
    "# This shows that on 2022-10-14, the closing price of the stock was the lowest, for all the stock price\n",
    "# hisotry included in the csv extracted from yahoo finance.\n",
    "# This lowest closing price was $112.27 "
   ]
  },
  {
   "cell_type": "code",
   "execution_count": 50,
   "id": "2e7307b3",
   "metadata": {},
   "outputs": [
    {
     "data": {
      "text/plain": [
       "0.3984313911506544"
      ]
     },
     "execution_count": 50,
     "metadata": {},
     "output_type": "execute_result"
    }
   ],
   "source": [
    "# Taking the normalised price\n",
    "data['Normalised'].min()"
   ]
  },
  {
   "cell_type": "code",
   "execution_count": 51,
   "id": "3cad541d",
   "metadata": {},
   "outputs": [
    {
     "data": {
      "text/plain": [
       "194"
      ]
     },
     "execution_count": 51,
     "metadata": {},
     "output_type": "execute_result"
    }
   ],
   "source": [
    "data['Normalised'].argmin()"
   ]
  },
  {
   "cell_type": "code",
   "execution_count": 59,
   "id": "1bd513f3",
   "metadata": {},
   "outputs": [
    {
     "data": {
      "text/plain": [
       "286.559998"
      ]
     },
     "execution_count": 59,
     "metadata": {},
     "output_type": "execute_result"
    }
   ],
   "source": [
    "# What was the maximum close stock price of NVDA?\n",
    "data['Close'].max()"
   ]
  },
  {
   "cell_type": "code",
   "execution_count": 60,
   "id": "48742d0a",
   "metadata": {},
   "outputs": [
    {
     "data": {
      "text/plain": [
       "56"
      ]
     },
     "execution_count": 60,
     "metadata": {},
     "output_type": "execute_result"
    }
   ],
   "source": [
    "data['Close'].argmax()\n",
    "# This will provide the index of this record."
   ]
  },
  {
   "cell_type": "code",
   "execution_count": 61,
   "id": "01873fbb",
   "metadata": {},
   "outputs": [
    {
     "data": {
      "text/html": [
       "<div>\n",
       "<style scoped>\n",
       "    .dataframe tbody tr th:only-of-type {\n",
       "        vertical-align: middle;\n",
       "    }\n",
       "\n",
       "    .dataframe tbody tr th {\n",
       "        vertical-align: top;\n",
       "    }\n",
       "\n",
       "    .dataframe thead th {\n",
       "        text-align: right;\n",
       "    }\n",
       "</style>\n",
       "<table border=\"1\" class=\"dataframe\">\n",
       "  <thead>\n",
       "    <tr style=\"text-align: right;\">\n",
       "      <th></th>\n",
       "      <th>Open</th>\n",
       "      <th>High</th>\n",
       "      <th>Low</th>\n",
       "      <th>Close</th>\n",
       "      <th>Adj Close</th>\n",
       "      <th>Volume</th>\n",
       "      <th>Daily chg</th>\n",
       "      <th>Normalised</th>\n",
       "    </tr>\n",
       "    <tr>\n",
       "      <th>Date</th>\n",
       "      <th></th>\n",
       "      <th></th>\n",
       "      <th></th>\n",
       "      <th></th>\n",
       "      <th></th>\n",
       "      <th></th>\n",
       "      <th></th>\n",
       "      <th></th>\n",
       "    </tr>\n",
       "  </thead>\n",
       "  <tbody>\n",
       "    <tr>\n",
       "      <th>2022-03-29</th>\n",
       "      <td>286.950012</td>\n",
       "      <td>289.459991</td>\n",
       "      <td>279.799988</td>\n",
       "      <td>286.559998</td>\n",
       "      <td>286.341034</td>\n",
       "      <td>48898400</td>\n",
       "      <td>-0.390014</td>\n",
       "      <td>1.016964</td>\n",
       "    </tr>\n",
       "    <tr>\n",
       "      <th>2022-03-30</th>\n",
       "      <td>283.040009</td>\n",
       "      <td>284.959991</td>\n",
       "      <td>275.029999</td>\n",
       "      <td>276.899994</td>\n",
       "      <td>276.688416</td>\n",
       "      <td>46348700</td>\n",
       "      <td>-6.140015</td>\n",
       "      <td>0.982682</td>\n",
       "    </tr>\n",
       "    <tr>\n",
       "      <th>2022-03-31</th>\n",
       "      <td>277.820007</td>\n",
       "      <td>282.480011</td>\n",
       "      <td>272.700012</td>\n",
       "      <td>272.859985</td>\n",
       "      <td>272.651520</td>\n",
       "      <td>52344000</td>\n",
       "      <td>-4.960022</td>\n",
       "      <td>0.968344</td>\n",
       "    </tr>\n",
       "    <tr>\n",
       "      <th>2022-04-01</th>\n",
       "      <td>273.750000</td>\n",
       "      <td>274.959991</td>\n",
       "      <td>262.670013</td>\n",
       "      <td>267.119995</td>\n",
       "      <td>266.915894</td>\n",
       "      <td>51723500</td>\n",
       "      <td>-6.630005</td>\n",
       "      <td>0.947974</td>\n",
       "    </tr>\n",
       "    <tr>\n",
       "      <th>2022-04-04</th>\n",
       "      <td>267.279999</td>\n",
       "      <td>275.579987</td>\n",
       "      <td>266.130005</td>\n",
       "      <td>273.600006</td>\n",
       "      <td>273.390961</td>\n",
       "      <td>39712000</td>\n",
       "      <td>6.320007</td>\n",
       "      <td>0.970970</td>\n",
       "    </tr>\n",
       "    <tr>\n",
       "      <th>...</th>\n",
       "      <td>...</td>\n",
       "      <td>...</td>\n",
       "      <td>...</td>\n",
       "      <td>...</td>\n",
       "      <td>...</td>\n",
       "      <td>...</td>\n",
       "      <td>...</td>\n",
       "      <td>...</td>\n",
       "    </tr>\n",
       "    <tr>\n",
       "      <th>2022-12-29</th>\n",
       "      <td>144.020004</td>\n",
       "      <td>146.830002</td>\n",
       "      <td>142.270004</td>\n",
       "      <td>146.029999</td>\n",
       "      <td>146.029999</td>\n",
       "      <td>35492300</td>\n",
       "      <td>2.009995</td>\n",
       "      <td>0.518241</td>\n",
       "    </tr>\n",
       "    <tr>\n",
       "      <th>2022-12-30</th>\n",
       "      <td>143.339996</td>\n",
       "      <td>146.289993</td>\n",
       "      <td>142.330002</td>\n",
       "      <td>146.139999</td>\n",
       "      <td>146.139999</td>\n",
       "      <td>31027300</td>\n",
       "      <td>2.800003</td>\n",
       "      <td>0.518632</td>\n",
       "    </tr>\n",
       "    <tr>\n",
       "      <th>2023-01-03</th>\n",
       "      <td>148.509995</td>\n",
       "      <td>149.960007</td>\n",
       "      <td>140.960007</td>\n",
       "      <td>143.149994</td>\n",
       "      <td>143.149994</td>\n",
       "      <td>40127700</td>\n",
       "      <td>-5.360001</td>\n",
       "      <td>0.508020</td>\n",
       "    </tr>\n",
       "    <tr>\n",
       "      <th>2023-01-04</th>\n",
       "      <td>145.669998</td>\n",
       "      <td>148.529999</td>\n",
       "      <td>142.410004</td>\n",
       "      <td>147.490005</td>\n",
       "      <td>147.490005</td>\n",
       "      <td>43132400</td>\n",
       "      <td>1.820007</td>\n",
       "      <td>0.523423</td>\n",
       "    </tr>\n",
       "    <tr>\n",
       "      <th>2023-01-05</th>\n",
       "      <td>144.910004</td>\n",
       "      <td>145.639999</td>\n",
       "      <td>141.479996</td>\n",
       "      <td>142.649994</td>\n",
       "      <td>142.649994</td>\n",
       "      <td>38871200</td>\n",
       "      <td>-2.260010</td>\n",
       "      <td>0.506246</td>\n",
       "    </tr>\n",
       "  </tbody>\n",
       "</table>\n",
       "<p>195 rows × 8 columns</p>\n",
       "</div>"
      ],
      "text/plain": [
       "                  Open        High         Low       Close   Adj Close  \\\n",
       "Date                                                                     \n",
       "2022-03-29  286.950012  289.459991  279.799988  286.559998  286.341034   \n",
       "2022-03-30  283.040009  284.959991  275.029999  276.899994  276.688416   \n",
       "2022-03-31  277.820007  282.480011  272.700012  272.859985  272.651520   \n",
       "2022-04-01  273.750000  274.959991  262.670013  267.119995  266.915894   \n",
       "2022-04-04  267.279999  275.579987  266.130005  273.600006  273.390961   \n",
       "...                ...         ...         ...         ...         ...   \n",
       "2022-12-29  144.020004  146.830002  142.270004  146.029999  146.029999   \n",
       "2022-12-30  143.339996  146.289993  142.330002  146.139999  146.139999   \n",
       "2023-01-03  148.509995  149.960007  140.960007  143.149994  143.149994   \n",
       "2023-01-04  145.669998  148.529999  142.410004  147.490005  147.490005   \n",
       "2023-01-05  144.910004  145.639999  141.479996  142.649994  142.649994   \n",
       "\n",
       "              Volume  Daily chg  Normalised  \n",
       "Date                                         \n",
       "2022-03-29  48898400  -0.390014    1.016964  \n",
       "2022-03-30  46348700  -6.140015    0.982682  \n",
       "2022-03-31  52344000  -4.960022    0.968344  \n",
       "2022-04-01  51723500  -6.630005    0.947974  \n",
       "2022-04-04  39712000   6.320007    0.970970  \n",
       "...              ...        ...         ...  \n",
       "2022-12-29  35492300   2.009995    0.518241  \n",
       "2022-12-30  31027300   2.800003    0.518632  \n",
       "2023-01-03  40127700  -5.360001    0.508020  \n",
       "2023-01-04  43132400   1.820007    0.523423  \n",
       "2023-01-05  38871200  -2.260010    0.506246  \n",
       "\n",
       "[195 rows x 8 columns]"
      ]
     },
     "execution_count": 61,
     "metadata": {},
     "output_type": "execute_result"
    }
   ],
   "source": [
    "data.iloc[56:]\n",
    "# The 56th index shows 2022-03-29 was the date when the closing price was the maxmimum.\n",
    "# The maximum closing price was $286.56"
   ]
  },
  {
   "cell_type": "code",
   "execution_count": 62,
   "id": "b53c7221",
   "metadata": {},
   "outputs": [
    {
     "data": {
      "text/plain": [
       "183.94908357768924"
      ]
     },
     "execution_count": 62,
     "metadata": {},
     "output_type": "execute_result"
    }
   ],
   "source": [
    "data['Close'].mean()\n",
    "# This calculates the mean value of all the closing prices. That is not a useful calculation,\n",
    "# but it does help one to start to visualise the volatility of the NVDA sotck."
   ]
  },
  {
   "cell_type": "code",
   "execution_count": 66,
   "id": "3e8391da",
   "metadata": {},
   "outputs": [],
   "source": [
    "# The average of all the closing prices was $183.95 and since the maximum close price was\n",
    "# $286.56, it shows there is a large difference between the maximum close price and the average.\n",
    "# The difference is 286.56 - 183.95 = $102.61\n",
    "# Or a % change of 102.61/286.56 = 35.8%\n",
    "\n",
    "# Removing uneeded columns from the data frame:\n",
    "# data.drop(labels='High','Low', 'Adj Close', 'Volume'), axis=1, inplace=True)\n",
    "# data.head()\n",
    "# Instead of keeping large dataframes in the memory, it slows down the computation time.\n",
    "# Removing uneeded columns speeds up the calculations. It also increases complexity.\n",
    "\n",
    "# FOURTH PHASE: visualising the stock price history and calculations.\n",
    "# Using maplotlib to create:\n",
    "# Subplots\n",
    "# Multiple plots\n",
    "# Bar plots\n"
   ]
  },
  {
   "cell_type": "code",
   "execution_count": null,
   "id": "e9d8ccea",
   "metadata": {},
   "outputs": [],
   "source": []
  }
 ],
 "metadata": {
  "kernelspec": {
   "display_name": "Python 3 (ipykernel)",
   "language": "python",
   "name": "python3"
  },
  "language_info": {
   "codemirror_mode": {
    "name": "ipython",
    "version": 3
   },
   "file_extension": ".py",
   "mimetype": "text/x-python",
   "name": "python",
   "nbconvert_exporter": "python",
   "pygments_lexer": "ipython3",
   "version": "3.9.13"
  }
 },
 "nbformat": 4,
 "nbformat_minor": 5
}
